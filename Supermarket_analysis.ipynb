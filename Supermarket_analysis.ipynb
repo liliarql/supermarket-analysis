{
 "cells": [
  {
   "cell_type": "markdown",
   "metadata": {},
   "source": [
    "# ANÁLISIS DATOS SUPERMERCADOS"
   ]
  },
  {
   "cell_type": "markdown",
   "metadata": {},
   "source": [
    "---"
   ]
  },
  {
   "cell_type": "markdown",
   "metadata": {},
   "source": [
    "(entorno: \"coftidypolars\" - recrear con \"armrequirements.txt\")"
   ]
  },
  {
   "cell_type": "markdown",
   "metadata": {},
   "source": [
    "+ Analizaremos el conjunto de \"Supermarket\", que se puede conseguir en modo \"Open\" desde esta dirección:\n",
    "  + https://datamarket.es/\n",
    "+ \"Productos de supermercados\".\n",
    "+ Este conjunto está en modo \"OpenData\", aunque puede ocurrir que el acceso requiera su compra.\n",
    "+ Estos datos son productos descargados de diferentes supermercados de España: Mercadona, Día y Carrefour en el que se indica su precio, nombre, descripción, fecha de alta en base de datos.\n"
   ]
  },
  {
   "cell_type": "markdown",
   "metadata": {},
   "source": [
    "![Alt text](charts/Captura%20de%20pantalla%202023-03-25%20a%20las%2021.59.09.png)"
   ]
  },
  {
   "cell_type": "markdown",
   "metadata": {},
   "source": [
    "---"
   ]
  },
  {
   "cell_type": "markdown",
   "metadata": {},
   "source": [
    "+ Para realizar este ejercicio,  usaremos una librería de Python que permite usar la potencia de \"Polars\" que es una nueva forma de trabajar con dataframes de una forma más eficiente que _pandas_ especialmente con conjuntos grandes.\n",
    "+ Y por encima de _polars_ usaremos una librería que **tidypolars** que se asemeja a _dplyr_ de _R_.\n",
    "  + Con _tidypolars_ se puede definir un flujo de trabajo en modo _tuberías_ muy fácil de entnder y sencillo de aplicar.\n",
    "  + Además de _polars_ y de _tidypolars_ tendremos que instalar _pyarrow_ que trabaja con _arrow_ una nueva estructura de intercambio de datos tanto para Python como para R que está teniendo una amplia implantación porque permite trabajar con conjuntos muy grandes de datos de forma equivalente a SQL.\n",
    "+ Referencias:\n",
    "  + https://github.com/markfairbanks/tidypolars\n",
    "  + https://tidypolars.readthedocs.io/en/latest/index.html"
   ]
  },
  {
   "cell_type": "markdown",
   "metadata": {},
   "source": [
    "---"
   ]
  },
  {
   "cell_type": "code",
   "execution_count": 1,
   "metadata": {},
   "outputs": [],
   "source": [
    "import tidypolars as tp\n",
    "from plotnine import *\n",
    "from tidypolars import *"
   ]
  },
  {
   "cell_type": "code",
   "execution_count": 2,
   "metadata": {},
   "outputs": [
    {
     "data": {
      "text/html": [
       "<div><style>\n",
       ".dataframe > thead > tr > th,\n",
       ".dataframe > tbody > tr > td {\n",
       "  text-align: right;\n",
       "}\n",
       "</style>\n",
       "<small>shape: (5, 10)</small><table border=\"1\" class=\"dataframe\"><thead><tr><th>url</th><th>supermarket</th><th>category</th><th>name</th><th>description</th><th>price</th><th>reference_price</th><th>reference_unit</th><th>insert_date</th><th>product_id</th></tr><tr><td>str</td><td>str</td><td>str</td><td>str</td><td>str</td><td>f64</td><td>f64</td><td>str</td><td>str</td><td>str</td></tr></thead><tbody><tr><td>&quot;https://www.di…</td><td>&quot;dia-es&quot;</td><td>&quot;alimentacion_c…</td><td>&quot;DIA MARI MARIN…</td><td>null</td><td>1.69</td><td>10.83</td><td>&quot;kg&quot;</td><td>&quot;2021-03-06 00:…</td><td>&quot;2bc67b7f390bea…</td></tr><tr><td>&quot;https://www.di…</td><td>&quot;dia-es&quot;</td><td>&quot;mascotas_resto…</td><td>&quot;DIA alimento m…</td><td>null</td><td>1.86</td><td>1.86</td><td>&quot;kg&quot;</td><td>&quot;2021-03-06 00:…</td><td>&quot;7f34f4aa6bc670…</td></tr><tr><td>&quot;https://www.di…</td><td>&quot;dia-es&quot;</td><td>&quot;mascotas_resto…</td><td>&quot;AS alimento pa…</td><td>null</td><td>0.78</td><td>1.56</td><td>&quot;kg&quot;</td><td>&quot;2021-03-06 00:…</td><td>&quot;c5e66ddbc123d9…</td></tr><tr><td>&quot;https://www.di…</td><td>&quot;dia-es&quot;</td><td>&quot;mascotas_resto…</td><td>&quot;DIA barritas c…</td><td>null</td><td>1.44</td><td>22.15</td><td>&quot;kg&quot;</td><td>&quot;2021-03-06 00:…</td><td>&quot;761110e8dbdf9f…</td></tr><tr><td>&quot;https://www.di…</td><td>&quot;dia-es&quot;</td><td>&quot;mascotas_resto…</td><td>&quot;DIA barritas c…</td><td>null</td><td>1.17</td><td>18.0</td><td>&quot;kg&quot;</td><td>&quot;2021-03-06 00:…</td><td>&quot;17c6ba84db051a…</td></tr></tbody></table></div>"
      ],
      "text/plain": [
       "shape: (5, 10)\n",
       "┌────────────────────┬─────────────┬────────────────────┬────────────────────┬───┬─────────────────┬────────────────┬─────────────┬───────────────────┐\n",
       "│ url                ┆ supermarket ┆ category           ┆ name               ┆ … ┆ reference_price ┆ reference_unit ┆ insert_date ┆ product_id        │\n",
       "│ ---                ┆ ---         ┆ ---                ┆ ---                ┆   ┆ ---             ┆ ---            ┆ ---         ┆ ---               │\n",
       "│ str                ┆ str         ┆ str                ┆ str                ┆   ┆ f64             ┆ str            ┆ str         ┆ str               │\n",
       "╞════════════════════╪═════════════╪════════════════════╪════════════════════╪═══╪═════════════════╪════════════════╪═════════════╪═══════════════════╡\n",
       "│ https://www.dia.es ┆ dia-es      ┆ alimentacion_conse ┆ DIA MARI MARINERA  ┆ … ┆ 10.83           ┆ kg             ┆ 2021-03-06  ┆ 2bc67b7f390beaa01 │\n",
       "│ /compra-online…    ┆             ┆ rvas_pescado_a…    ┆ atún en tomate…    ┆   ┆                 ┆                ┆ 00:00:00    ┆ 64b6205830358d8   │\n",
       "│ https://www.dia.es ┆ dia-es      ┆ mascotas_resto_ani ┆ DIA alimento mix   ┆ … ┆ 1.86            ┆ kg             ┆ 2021-03-06  ┆ 7f34f4aa6bc670295 │\n",
       "│ /compra-online…    ┆             ┆ males_alimento…    ┆ para roedores b…   ┆   ┆                 ┆                ┆ 00:00:00    ┆ 0e13dff451ea15c   │\n",
       "│ https://www.dia.es ┆ dia-es      ┆ mascotas_resto_ani ┆ AS alimento para   ┆ … ┆ 1.56            ┆ kg             ┆ 2021-03-06  ┆ c5e66ddbc123d9e7b │\n",
       "│ /compra-online…    ┆             ┆ males_alimento…    ┆ canarios bolsa …   ┆   ┆                 ┆                ┆ 00:00:00    ┆ a2cb20b0eaf11bf   │\n",
       "│ https://www.dia.es ┆ dia-es      ┆ mascotas_resto_ani ┆ DIA barritas con   ┆ … ┆ 22.15           ┆ kg             ┆ 2021-03-06  ┆ 761110e8dbdf9f199 │\n",
       "│ /compra-online…    ┆             ┆ males_alimento…    ┆ frutas para per…   ┆   ┆                 ┆                ┆ 00:00:00    ┆ 3ccad8ba72731b2   │\n",
       "│ https://www.dia.es ┆ dia-es      ┆ mascotas_resto_ani ┆ DIA barritas con   ┆ … ┆ 18.0            ┆ kg             ┆ 2021-03-06  ┆ 17c6ba84db051a33b │\n",
       "│ /compra-online…    ┆             ┆ males_alimento…    ┆ frutas para can…   ┆   ┆                 ┆                ┆ 00:00:00    ┆ a6d5dcdd1953699   │\n",
       "└────────────────────┴─────────────┴────────────────────┴────────────────────┴───┴─────────────────┴────────────────┴─────────────┴───────────────────┘"
      ]
     },
     "execution_count": null,
     "metadata": {},
     "output_type": "execute_result"
    }
   ],
   "source": [
    "# Importar el archivo CSV\n",
    "df = tp.read_csv('./datos/datamarket_productos_de_supermercados_v2.csv')\n",
    "df.head()\n"
   ]
  },
  {
   "cell_type": "markdown",
   "metadata": {},
   "source": [
    "+ Vemos cuántos tipos de \"supermarket\" tiene el conjunto:"
   ]
  },
  {
   "cell_type": "code",
   "execution_count": 3,
   "metadata": {},
   "outputs": [
    {
     "data": {
      "text/html": [
       "<div><style>\n",
       ".dataframe > thead > tr > th,\n",
       ".dataframe > tbody > tr > td {\n",
       "  text-align: right;\n",
       "}\n",
       "</style>\n",
       "<small>shape: (3, 2)</small><table border=\"1\" class=\"dataframe\"><thead><tr><th>supermarket</th><th>n</th></tr><tr><td>str</td><td>u32</td></tr></thead><tbody><tr><td>&quot;carrefour-es&quot;</td><td>2016071</td></tr><tr><td>&quot;dia-es&quot;</td><td>3803682</td></tr><tr><td>&quot;mercadona-es&quot;</td><td>3931335</td></tr></tbody></table></div>"
      ],
      "text/plain": [
       "shape: (3, 2)\n",
       "┌──────────────┬─────────┐\n",
       "│ supermarket  ┆ n       │\n",
       "│ ---          ┆ ---     │\n",
       "│ str          ┆ u32     │\n",
       "╞══════════════╪═════════╡\n",
       "│ carrefour-es ┆ 2016071 │\n",
       "│ dia-es       ┆ 3803682 │\n",
       "│ mercadona-es ┆ 3931335 │\n",
       "└──────────────┴─────────┘"
      ]
     },
     "execution_count": null,
     "metadata": {},
     "output_type": "execute_result"
    }
   ],
   "source": [
    "# Mostrar cuántos elementos diferentes hay en la variable \"supermarket\"\n",
    "df.count('supermarket')"
   ]
  },
  {
   "cell_type": "markdown",
   "metadata": {},
   "source": [
    "Lo que queremos hacer es poder derterminar qué productos han tenido una mayor variación en precio. \n",
    "+ Para ello, seleciconaremos un supermercado: _Mercadona_ por ejemplo.\n",
    "+ Y añadiremos unas nuevas variables que indique el año_mes.\n"
   ]
  },
  {
   "cell_type": "code",
   "execution_count": 4,
   "metadata": {},
   "outputs": [
    {
     "data": {
      "text/html": [
       "<div><style>\n",
       ".dataframe > thead > tr > th,\n",
       ".dataframe > tbody > tr > td {\n",
       "  text-align: right;\n",
       "}\n",
       "</style>\n",
       "<small>shape: (5, 14)</small><table border=\"1\" class=\"dataframe\"><thead><tr><th>url</th><th>supermarket</th><th>category</th><th>name</th><th>description</th><th>price</th><th>reference_price</th><th>reference_unit</th><th>insert_date</th><th>product_id</th><th>midate</th><th>year</th><th>mes</th><th>yearmon</th></tr><tr><td>str</td><td>str</td><td>str</td><td>str</td><td>str</td><td>f64</td><td>f64</td><td>str</td><td>str</td><td>str</td><td>datetime[μs]</td><td>i32</td><td>u32</td><td>i64</td></tr></thead><tbody><tr><td>&quot;https://www.di…</td><td>&quot;dia-es&quot;</td><td>&quot;alimentacion_c…</td><td>&quot;DIA MARI MARIN…</td><td>null</td><td>1.69</td><td>10.83</td><td>&quot;kg&quot;</td><td>&quot;2021-03-06 00:…</td><td>&quot;2bc67b7f390bea…</td><td>2021-03-06 00:00:00</td><td>2021</td><td>3</td><td>202103</td></tr><tr><td>&quot;https://www.di…</td><td>&quot;dia-es&quot;</td><td>&quot;mascotas_resto…</td><td>&quot;DIA alimento m…</td><td>null</td><td>1.86</td><td>1.86</td><td>&quot;kg&quot;</td><td>&quot;2021-03-06 00:…</td><td>&quot;7f34f4aa6bc670…</td><td>2021-03-06 00:00:00</td><td>2021</td><td>3</td><td>202103</td></tr><tr><td>&quot;https://www.di…</td><td>&quot;dia-es&quot;</td><td>&quot;mascotas_resto…</td><td>&quot;AS alimento pa…</td><td>null</td><td>0.78</td><td>1.56</td><td>&quot;kg&quot;</td><td>&quot;2021-03-06 00:…</td><td>&quot;c5e66ddbc123d9…</td><td>2021-03-06 00:00:00</td><td>2021</td><td>3</td><td>202103</td></tr><tr><td>&quot;https://www.di…</td><td>&quot;dia-es&quot;</td><td>&quot;mascotas_resto…</td><td>&quot;DIA barritas c…</td><td>null</td><td>1.44</td><td>22.15</td><td>&quot;kg&quot;</td><td>&quot;2021-03-06 00:…</td><td>&quot;761110e8dbdf9f…</td><td>2021-03-06 00:00:00</td><td>2021</td><td>3</td><td>202103</td></tr><tr><td>&quot;https://www.di…</td><td>&quot;dia-es&quot;</td><td>&quot;mascotas_resto…</td><td>&quot;DIA barritas c…</td><td>null</td><td>1.17</td><td>18.0</td><td>&quot;kg&quot;</td><td>&quot;2021-03-06 00:…</td><td>&quot;17c6ba84db051a…</td><td>2021-03-06 00:00:00</td><td>2021</td><td>3</td><td>202103</td></tr></tbody></table></div>"
      ],
      "text/plain": [
       "shape: (5, 14)\n",
       "┌────────────────────────────┬─────────────┬────────────────────────────┬────────────────────────────┬───┬─────────────────────┬──────┬─────┬─────────┐\n",
       "│ url                        ┆ supermarket ┆ category                   ┆ name                       ┆ … ┆ midate              ┆ year ┆ mes ┆ yearmon │\n",
       "│ ---                        ┆ ---         ┆ ---                        ┆ ---                        ┆   ┆ ---                 ┆ ---  ┆ --- ┆ ---     │\n",
       "│ str                        ┆ str         ┆ str                        ┆ str                        ┆   ┆ datetime[μs]        ┆ i32  ┆ u32 ┆ i64     │\n",
       "╞════════════════════════════╪═════════════╪════════════════════════════╪════════════════════════════╪═══╪═════════════════════╪══════╪═════╪═════════╡\n",
       "│ https://www.dia.es/compra- ┆ dia-es      ┆ alimentacion_conservas_pes ┆ DIA MARI MARINERA atún en  ┆ … ┆ 2021-03-06 00:00:00 ┆ 2021 ┆ 3   ┆ 202103  │\n",
       "│ online…                    ┆             ┆ cado_a…                    ┆ tomate…                    ┆   ┆                     ┆      ┆     ┆         │\n",
       "│ https://www.dia.es/compra- ┆ dia-es      ┆ mascotas_resto_animales_al ┆ DIA alimento mix para      ┆ … ┆ 2021-03-06 00:00:00 ┆ 2021 ┆ 3   ┆ 202103  │\n",
       "│ online…                    ┆             ┆ imento…                    ┆ roedores b…                ┆   ┆                     ┆      ┆     ┆         │\n",
       "│ https://www.dia.es/compra- ┆ dia-es      ┆ mascotas_resto_animales_al ┆ AS alimento para canarios  ┆ … ┆ 2021-03-06 00:00:00 ┆ 2021 ┆ 3   ┆ 202103  │\n",
       "│ online…                    ┆             ┆ imento…                    ┆ bolsa …                    ┆   ┆                     ┆      ┆     ┆         │\n",
       "│ https://www.dia.es/compra- ┆ dia-es      ┆ mascotas_resto_animales_al ┆ DIA barritas con frutas    ┆ … ┆ 2021-03-06 00:00:00 ┆ 2021 ┆ 3   ┆ 202103  │\n",
       "│ online…                    ┆             ┆ imento…                    ┆ para per…                  ┆   ┆                     ┆      ┆     ┆         │\n",
       "│ https://www.dia.es/compra- ┆ dia-es      ┆ mascotas_resto_animales_al ┆ DIA barritas con frutas    ┆ … ┆ 2021-03-06 00:00:00 ┆ 2021 ┆ 3   ┆ 202103  │\n",
       "│ online…                    ┆             ┆ imento…                    ┆ para can…                  ┆   ┆                     ┆      ┆     ┆         │\n",
       "└────────────────────────────┴─────────────┴────────────────────────────┴────────────────────────────┴───┴─────────────────────┴──────┴─────┴─────────┘"
      ]
     },
     "execution_count": null,
     "metadata": {},
     "output_type": "execute_result"
    }
   ],
   "source": [
    "df = (  \n",
    "  df\n",
    "   .mutate(midate = tp.as_datetime(col('insert_date')) )\n",
    "   .mutate(year = tp.year(col('midate')))\n",
    "   .mutate(mes = tp.month(col('midate')))\n",
    "   .mutate(yearmon = col('year')*100 + col('mes'))\n",
    ")\n",
    "df.head()"
   ]
  },
  {
   "cell_type": "code",
   "execution_count": 5,
   "metadata": {},
   "outputs": [
    {
     "data": {
      "text/plain": [
       "['url',\n",
       " 'supermarket',\n",
       " 'category',\n",
       " 'name',\n",
       " 'description',\n",
       " 'price',\n",
       " 'reference_price',\n",
       " 'reference_unit',\n",
       " 'insert_date',\n",
       " 'product_id',\n",
       " 'midate',\n",
       " 'year',\n",
       " 'mes',\n",
       " 'yearmon']"
      ]
     },
     "execution_count": null,
     "metadata": {},
     "output_type": "execute_result"
    }
   ],
   "source": [
    "df.names"
   ]
  },
  {
   "cell_type": "markdown",
   "metadata": {},
   "source": [
    "+ Ahora que tenemos añadidas estas dos columnas, vamos a trabajar solo con el conjunto de \"Mercadona\", aunque luego lo que encontremos lo extenderemos al resto de supermercados."
   ]
  },
  {
   "cell_type": "code",
   "execution_count": 6,
   "metadata": {},
   "outputs": [
    {
     "data": {
      "text/html": [
       "<div><style>\n",
       ".dataframe > thead > tr > th,\n",
       ".dataframe > tbody > tr > td {\n",
       "  text-align: right;\n",
       "}\n",
       "</style>\n",
       "<small>shape: (5, 14)</small><table border=\"1\" class=\"dataframe\"><thead><tr><th>url</th><th>supermarket</th><th>category</th><th>name</th><th>description</th><th>price</th><th>reference_price</th><th>reference_unit</th><th>insert_date</th><th>product_id</th><th>midate</th><th>year</th><th>mes</th><th>yearmon</th></tr><tr><td>str</td><td>str</td><td>str</td><td>str</td><td>str</td><td>f64</td><td>f64</td><td>str</td><td>str</td><td>str</td><td>datetime[μs]</td><td>i32</td><td>u32</td><td>i64</td></tr></thead><tbody><tr><td>&quot;https://tienda…</td><td>&quot;mercadona-es&quot;</td><td>&quot;mascotas_gato&quot;</td><td>&quot;Paté gato adul…</td><td>&quot;Tarrina&quot;</td><td>0.35</td><td>3.5</td><td>&quot;kg&quot;</td><td>&quot;2021-03-06 00:…</td><td>&quot;7770dabf173230…</td><td>2021-03-06 00:00:00</td><td>2021</td><td>3</td><td>202103</td></tr><tr><td>&quot;https://tienda…</td><td>&quot;mercadona-es&quot;</td><td>&quot;mascotas_gato&quot;</td><td>&quot;Paté gato adul…</td><td>&quot;Tarrina&quot;</td><td>0.35</td><td>3.5</td><td>&quot;kg&quot;</td><td>&quot;2021-03-06 00:…</td><td>&quot;e9fe0e0f0fdfb0…</td><td>2021-03-06 00:00:00</td><td>2021</td><td>3</td><td>202103</td></tr><tr><td>&quot;https://tienda…</td><td>&quot;mercadona-es&quot;</td><td>&quot;mascotas_gato&quot;</td><td>&quot;Paté gato adul…</td><td>&quot;Tarrina&quot;</td><td>0.35</td><td>3.5</td><td>&quot;kg&quot;</td><td>&quot;2021-03-06 00:…</td><td>&quot;9cfdc816b7df65…</td><td>2021-03-06 00:00:00</td><td>2021</td><td>3</td><td>202103</td></tr><tr><td>&quot;https://tienda…</td><td>&quot;mercadona-es&quot;</td><td>&quot;mascotas_gato&quot;</td><td>&quot;Paté gato adul…</td><td>&quot;Bote&quot;</td><td>0.65</td><td>1.63</td><td>&quot;kg&quot;</td><td>&quot;2021-03-06 00:…</td><td>&quot;be1b012e7ee9ab…</td><td>2021-03-06 00:00:00</td><td>2021</td><td>3</td><td>202103</td></tr><tr><td>&quot;https://tienda…</td><td>&quot;mercadona-es&quot;</td><td>&quot;mascotas_gato&quot;</td><td>&quot;Paté gato adul…</td><td>&quot;Bote&quot;</td><td>0.65</td><td>1.63</td><td>&quot;kg&quot;</td><td>&quot;2021-03-06 00:…</td><td>&quot;1eea77f457b08b…</td><td>2021-03-06 00:00:00</td><td>2021</td><td>3</td><td>202103</td></tr></tbody></table></div>"
      ],
      "text/plain": [
       "shape: (5, 14)\n",
       "┌─────────────────────────────────────┬──────────────┬───────────────┬───────────────────────────────┬───┬─────────────────────┬──────┬─────┬─────────┐\n",
       "│ url                                 ┆ supermarket  ┆ category      ┆ name                          ┆ … ┆ midate              ┆ year ┆ mes ┆ yearmon │\n",
       "│ ---                                 ┆ ---          ┆ ---           ┆ ---                           ┆   ┆ ---                 ┆ ---  ┆ --- ┆ ---     │\n",
       "│ str                                 ┆ str          ┆ str           ┆ str                           ┆   ┆ datetime[μs]        ┆ i32  ┆ u32 ┆ i64     │\n",
       "╞═════════════════════════════════════╪══════════════╪═══════════════╪═══════════════════════════════╪═══╪═════════════════════╪══════╪═════╪═════════╡\n",
       "│ https://tienda.mercadona.es/prod…   ┆ mercadona-es ┆ mascotas_gato ┆ Paté gato adulto Delikuit con ┆ … ┆ 2021-03-06 00:00:00 ┆ 2021 ┆ 3   ┆ 202103  │\n",
       "│                                     ┆              ┆               ┆ tr…                           ┆   ┆                     ┆      ┆     ┆         │\n",
       "│ https://tienda.mercadona.es/prod…   ┆ mercadona-es ┆ mascotas_gato ┆ Paté gato adulto Delikuit con ┆ … ┆ 2021-03-06 00:00:00 ┆ 2021 ┆ 3   ┆ 202103  │\n",
       "│                                     ┆              ┆               ┆ po…                           ┆   ┆                     ┆      ┆     ┆         │\n",
       "│ https://tienda.mercadona.es/prod…   ┆ mercadona-es ┆ mascotas_gato ┆ Paté gato adulto Delikuit con ┆ … ┆ 2021-03-06 00:00:00 ┆ 2021 ┆ 3   ┆ 202103  │\n",
       "│                                     ┆              ┆               ┆ te…                           ┆   ┆                     ┆      ┆     ┆         │\n",
       "│ https://tienda.mercadona.es/prod…   ┆ mercadona-es ┆ mascotas_gato ┆ Paté gato adulto Delikut con  ┆ … ┆ 2021-03-06 00:00:00 ┆ 2021 ┆ 3   ┆ 202103  │\n",
       "│                                     ┆              ┆               ┆ sal…                          ┆   ┆                     ┆      ┆     ┆         │\n",
       "│ https://tienda.mercadona.es/prod…   ┆ mercadona-es ┆ mascotas_gato ┆ Paté gato adulto Delikuit con ┆ … ┆ 2021-03-06 00:00:00 ┆ 2021 ┆ 3   ┆ 202103  │\n",
       "│                                     ┆              ┆               ┆ po…                           ┆   ┆                     ┆      ┆     ┆         │\n",
       "└─────────────────────────────────────┴──────────────┴───────────────┴───────────────────────────────┴───┴─────────────────────┴──────┴─────┴─────────┘"
      ]
     },
     "execution_count": null,
     "metadata": {},
     "output_type": "execute_result"
    }
   ],
   "source": [
    "mercadf = df.filter(col('supermarket') == 'mercadona-es')\n",
    "mercadf.head()"
   ]
  },
  {
   "cell_type": "code",
   "execution_count": 7,
   "metadata": {},
   "outputs": [
    {
     "data": {
      "text/plain": [
       "3931335"
      ]
     },
     "execution_count": null,
     "metadata": {},
     "output_type": "execute_result"
    }
   ],
   "source": [
    "mercadf.nrow"
   ]
  },
  {
   "cell_type": "markdown",
   "metadata": {},
   "source": [
    "+ Este conjunto tiene aprox. 4M de elementos."
   ]
  },
  {
   "cell_type": "markdown",
   "metadata": {},
   "source": [
    "+ Y ...¿cuántos productos se detallan en este subconjunto de _Mercadona_.\n",
    "+ Pero tenemos que tener en cuenta que como productos diferentes tenemos que considerar la unión de _name_ y _description_. \n",
    "  + Vemos que para las \"Paté gato..\" tenemos diferentes descripciones con valores de precio también diferentes.\n",
    "+ Creamos por tanto esta nueva variable."
   ]
  },
  {
   "cell_type": "code",
   "execution_count": 8,
   "metadata": {},
   "outputs": [
    {
     "data": {
      "text/html": [
       "<div><style>\n",
       ".dataframe > thead > tr > th,\n",
       ".dataframe > tbody > tr > td {\n",
       "  text-align: right;\n",
       "}\n",
       "</style>\n",
       "<small>shape: (1, 1)</small><table border=\"1\" class=\"dataframe\"><thead><tr><th>namedesc</th></tr><tr><td>str</td></tr></thead><tbody><tr><td>&quot;Paté gato adul…</td></tr></tbody></table></div>"
      ],
      "text/plain": [
       "shape: (1, 1)\n",
       "┌───────────────────────────────────┐\n",
       "│ namedesc                          │\n",
       "│ ---                               │\n",
       "│ str                               │\n",
       "╞═══════════════════════════════════╡\n",
       "│ Paté gato adulto Delikuit con tr… │\n",
       "└───────────────────────────────────┘"
      ]
     },
     "execution_count": null,
     "metadata": {},
     "output_type": "execute_result"
    }
   ],
   "source": [
    "mercadf = (\n",
    "    mercadf\n",
    "    .mutate( namedesc = paste(col('name'), col('description'), sep = '_'))\n",
    ")\n",
    "val = mercadf.select(col('namedesc')).head(1)\n",
    "val.head()"
   ]
  },
  {
   "cell_type": "code",
   "execution_count": 9,
   "metadata": {},
   "outputs": [
    {
     "data": {
      "text/plain": [
       "8142"
      ]
     },
     "execution_count": null,
     "metadata": {},
     "output_type": "execute_result"
    }
   ],
   "source": [
    "numprod = mercadf.count(col('namedesc'))\n",
    "numprod.nrow"
   ]
  },
  {
   "cell_type": "code",
   "execution_count": 10,
   "metadata": {},
   "outputs": [
    {
     "data": {
      "text/html": [
       "<div><style>\n",
       ".dataframe > thead > tr > th,\n",
       ".dataframe > tbody > tr > td {\n",
       "  text-align: right;\n",
       "}\n",
       "</style>\n",
       "<small>shape: (5, 2)</small><table border=\"1\" class=\"dataframe\"><thead><tr><th>namedesc</th><th>n</th></tr><tr><td>str</td><td>u32</td></tr></thead><tbody><tr><td>&quot;Solomillo de p…</td><td>624</td></tr><tr><td>&quot;Bolas de cerea…</td><td>672</td></tr><tr><td>&quot;Agua mineral p…</td><td>267</td></tr><tr><td>&quot;Cepillo dental…</td><td>287</td></tr><tr><td>&quot;Compresa sin a…</td><td>129</td></tr></tbody></table></div>"
      ],
      "text/plain": [
       "shape: (5, 2)\n",
       "┌───────────────────────────────────┬─────┐\n",
       "│ namedesc                          ┆ n   │\n",
       "│ ---                               ┆ --- │\n",
       "│ str                               ┆ u32 │\n",
       "╞═══════════════════════════════════╪═════╡\n",
       "│ Solomillo de pavo marinado conge… ┆ 624 │\n",
       "│ Bolas de cereal Hacendado bañada… ┆ 672 │\n",
       "│ Agua mineral pequeña Font Vella … ┆ 267 │\n",
       "│ Cepillo dental Infantil Eléctric… ┆ 287 │\n",
       "│ Compresa sin alas de incontinenc… ┆ 129 │\n",
       "└───────────────────────────────────┴─────┘"
      ]
     },
     "execution_count": null,
     "metadata": {},
     "output_type": "execute_result"
    }
   ],
   "source": [
    "numprod.head()"
   ]
  },
  {
   "cell_type": "markdown",
   "metadata": {},
   "source": [
    "+ Ordenamos de mayor a menor el por número de veces que aparece el producto en el conjunto."
   ]
  },
  {
   "cell_type": "code",
   "execution_count": 11,
   "metadata": {},
   "outputs": [
    {
     "data": {
      "text/html": [
       "<div><style>\n",
       ".dataframe > thead > tr > th,\n",
       ".dataframe > tbody > tr > td {\n",
       "  text-align: right;\n",
       "}\n",
       "</style>\n",
       "<small>shape: (20, 2)</small><table border=\"1\" class=\"dataframe\"><thead><tr><th>namedesc</th><th>n</th></tr><tr><td>str</td><td>u32</td></tr></thead><tbody><tr><td>null</td><td>366931</td></tr><tr><td>&quot;Huevos grandes…</td><td>2016</td></tr><tr><td>&quot;Zumo de naranj…</td><td>2016</td></tr><tr><td>&quot;Refresco Coca-…</td><td>2016</td></tr><tr><td>&quot;Leche condensa…</td><td>2011</td></tr><tr><td>&quot;Leche entera H…</td><td>2001</td></tr><tr><td>&quot;Cerveza Clásic…</td><td>1999</td></tr><tr><td>&quot;Leche semidesn…</td><td>1990</td></tr><tr><td>&quot;Leche semidesn…</td><td>1982</td></tr><tr><td>&quot;Cerveza Especi…</td><td>1978</td></tr><tr><td>&quot;Estropajo suci…</td><td>1880</td></tr><tr><td>&quot;Refresco Coca-…</td><td>1879</td></tr><tr><td>&quot;Mayonesa Hacen…</td><td>1716</td></tr><tr><td>&quot;Patatas_Malla&quot;</td><td>1660</td></tr><tr><td>&quot;Café molido de…</td><td>1344</td></tr><tr><td>&quot;Chocolate con …</td><td>1344</td></tr><tr><td>&quot;Preparado de c…</td><td>1344</td></tr><tr><td>&quot;Chorizo cular …</td><td>1344</td></tr><tr><td>&quot;Alubia cocida …</td><td>1344</td></tr><tr><td>&quot;Claras de huev…</td><td>1344</td></tr></tbody></table></div>"
      ],
      "text/plain": [
       "shape: (20, 2)\n",
       "┌───────────────────────────────────┬────────┐\n",
       "│ namedesc                          ┆ n      │\n",
       "│ ---                               ┆ ---    │\n",
       "│ str                               ┆ u32    │\n",
       "╞═══════════════════════════════════╪════════╡\n",
       "│ null                              ┆ 366931 │\n",
       "│ Huevos grandes L_Paquete          ┆ 2016   │\n",
       "│ Zumo de naranja recién exprimido… ┆ 2016   │\n",
       "│ Refresco Coca-Cola_Botella        ┆ 2016   │\n",
       "│ …                                 ┆ …      │\n",
       "│ Preparado de carne picada vacuno… ┆ 1344   │\n",
       "│ Chorizo cular ibérico extra La H… ┆ 1344   │\n",
       "│ Alubia cocida blanca Hacendado_T… ┆ 1344   │\n",
       "│ Claras de huevo líquidas pasteur… ┆ 1344   │\n",
       "└───────────────────────────────────┴────────┘"
      ]
     },
     "execution_count": null,
     "metadata": {},
     "output_type": "execute_result"
    }
   ],
   "source": [
    "numprod.arrange(tp.desc('n')).head(20)"
   ]
  },
  {
   "cell_type": "markdown",
   "metadata": {},
   "source": [
    "+ Para el estudio que queremos hacer de variación de precios, podemos tomar la decisión de quedarnos solo con aquellos productos que tengan un número de entradas superior a 1000 por ejemplo. No tiene sentido analizar conjuntos con pocas entradas.\n",
    "+ Añadiremos ese valor del número de entradas al conjunto de _Mercadona_ y aplicaremos un filtro.\n",
    "+ Y en el filtro aprovecharemos para eliminar los elementos que vemos que tienen valor nulo en la descripción."
   ]
  },
  {
   "cell_type": "code",
   "execution_count": 12,
   "metadata": {},
   "outputs": [
    {
     "data": {
      "text/plain": [
       "['url',\n",
       " 'supermarket',\n",
       " 'category',\n",
       " 'name',\n",
       " 'description',\n",
       " 'price',\n",
       " 'reference_price',\n",
       " 'reference_unit',\n",
       " 'insert_date',\n",
       " 'product_id',\n",
       " 'midate',\n",
       " 'year',\n",
       " 'mes',\n",
       " 'yearmon',\n",
       " 'namedesc',\n",
       " 'qty_prod']"
      ]
     },
     "execution_count": null,
     "metadata": {},
     "output_type": "execute_result"
    }
   ],
   "source": [
    "mercadf = (\n",
    "    mercadf\n",
    "    .mutate(qty_prod = tp.n(), by = 'namedesc' )\n",
    ")\n",
    "mercadf.names"
   ]
  },
  {
   "cell_type": "code",
   "execution_count": 13,
   "metadata": {},
   "outputs": [
    {
     "data": {
      "text/plain": [
       "174541"
      ]
     },
     "execution_count": null,
     "metadata": {},
     "output_type": "execute_result"
    }
   ],
   "source": [
    "mercadfred = (\n",
    "    mercadf\n",
    "    .filter( col('qty_prod') >= 1000 )\n",
    "    .filter( str_length(col('namedesc')) > 1)\n",
    ")\n",
    "mercadfred.nrow"
   ]
  },
  {
   "cell_type": "markdown",
   "metadata": {},
   "source": [
    "+ El cojunto se reduce notablemente a 174k filas de las casi 4M iniciales."
   ]
  },
  {
   "cell_type": "markdown",
   "metadata": {},
   "source": [
    "+ ¿Con cuántos productos nos hemos quedado?."
   ]
  },
  {
   "cell_type": "code",
   "execution_count": 14,
   "metadata": {},
   "outputs": [
    {
     "data": {
      "text/plain": [
       "130"
      ]
     },
     "execution_count": null,
     "metadata": {},
     "output_type": "execute_result"
    }
   ],
   "source": [
    "prodorder = mercadfred.count(col('namedesc')).arrange(tp.desc('n'))\n",
    "prodorder.nrow"
   ]
  },
  {
   "cell_type": "markdown",
   "metadata": {},
   "source": [
    "+ El resultado de aplicar estos filtros es que nos hemos quedado con *130* productos diferentes.\n",
    "+ Es interesante ver que uno de los productos con mayor presencia en el conjunto, es el de \"Huevos grandes...\" que al ser un producto de alta necesidad, nos va a permitir estudiar la variación de sus precios."
   ]
  },
  {
   "cell_type": "code",
   "execution_count": 15,
   "metadata": {},
   "outputs": [
    {
     "data": {
      "text/html": [
       "<div><style>\n",
       ".dataframe > thead > tr > th,\n",
       ".dataframe > tbody > tr > td {\n",
       "  text-align: right;\n",
       "}\n",
       "</style>\n",
       "<small>shape: (5, 16)</small><table border=\"1\" class=\"dataframe\"><thead><tr><th>url</th><th>supermarket</th><th>category</th><th>name</th><th>description</th><th>price</th><th>reference_price</th><th>reference_unit</th><th>insert_date</th><th>product_id</th><th>midate</th><th>year</th><th>mes</th><th>yearmon</th><th>namedesc</th><th>qty_prod</th></tr><tr><td>str</td><td>str</td><td>str</td><td>str</td><td>str</td><td>f64</td><td>f64</td><td>str</td><td>str</td><td>str</td><td>datetime[μs]</td><td>i32</td><td>u32</td><td>i64</td><td>str</td><td>u32</td></tr></thead><tbody><tr><td>&quot;https://tienda…</td><td>&quot;mercadona-es&quot;</td><td>&quot;bebe_higiene_y…</td><td>&quot;Agua de coloni…</td><td>&quot;Bote&quot;</td><td>1.45</td><td>1.45</td><td>&quot;100ml&quot;</td><td>&quot;2021-03-06 00:…</td><td>&quot;e6bc65905ad133…</td><td>2021-03-06 00:00:00</td><td>2021</td><td>3</td><td>202103</td><td>&quot;Agua de coloni…</td><td>1331</td></tr><tr><td>&quot;https://tienda…</td><td>&quot;mercadona-es&quot;</td><td>&quot;bebe_higiene_y…</td><td>&quot;Agua de coloni…</td><td>&quot;Bote&quot;</td><td>2.05</td><td>0.34</td><td>&quot;100ml&quot;</td><td>&quot;2021-03-06 00:…</td><td>&quot;7c7b8f0ea668c0…</td><td>2021-03-06 00:00:00</td><td>2021</td><td>3</td><td>202103</td><td>&quot;Agua de coloni…</td><td>1331</td></tr><tr><td>&quot;https://tienda…</td><td>&quot;mercadona-es&quot;</td><td>&quot;bebe_higiene_y…</td><td>&quot;Agua de coloni…</td><td>&quot;Bote&quot;</td><td>1.45</td><td>1.45</td><td>&quot;100ml&quot;</td><td>&quot;2021-03-07 00:…</td><td>&quot;e6bc65905ad133…</td><td>2021-03-07 00:00:00</td><td>2021</td><td>3</td><td>202103</td><td>&quot;Agua de coloni…</td><td>1331</td></tr><tr><td>&quot;https://tienda…</td><td>&quot;mercadona-es&quot;</td><td>&quot;bebe_higiene_y…</td><td>&quot;Agua de coloni…</td><td>&quot;Bote&quot;</td><td>2.05</td><td>0.34</td><td>&quot;100ml&quot;</td><td>&quot;2021-03-07 00:…</td><td>&quot;7c7b8f0ea668c0…</td><td>2021-03-07 00:00:00</td><td>2021</td><td>3</td><td>202103</td><td>&quot;Agua de coloni…</td><td>1331</td></tr><tr><td>&quot;https://tienda…</td><td>&quot;mercadona-es&quot;</td><td>&quot;bebe_higiene_y…</td><td>&quot;Agua de coloni…</td><td>&quot;Bote&quot;</td><td>1.45</td><td>1.45</td><td>&quot;100ml&quot;</td><td>&quot;2021-03-08 00:…</td><td>&quot;e6bc65905ad133…</td><td>2021-03-08 00:00:00</td><td>2021</td><td>3</td><td>202103</td><td>&quot;Agua de coloni…</td><td>1331</td></tr></tbody></table></div>"
      ],
      "text/plain": [
       "shape: (5, 16)\n",
       "┌──────────────────────────┬──────────────┬────────────────────────┬─────────────────────────┬───┬─────┬─────────┬─────────────────────────┬──────────┐\n",
       "│ url                      ┆ supermarket  ┆ category               ┆ name                    ┆ … ┆ mes ┆ yearmon ┆ namedesc                ┆ qty_prod │\n",
       "│ ---                      ┆ ---          ┆ ---                    ┆ ---                     ┆   ┆ --- ┆ ---     ┆ ---                     ┆ ---      │\n",
       "│ str                      ┆ str          ┆ str                    ┆ str                     ┆   ┆ u32 ┆ i64     ┆ str                     ┆ u32      │\n",
       "╞══════════════════════════╪══════════════╪════════════════════════╪═════════════════════════╪═══╪═════╪═════════╪═════════════════════════╪══════════╡\n",
       "│ https://tienda.mercadona ┆ mercadona-es ┆ bebe_higiene_y_cuidado ┆ Agua de colonia fresca  ┆ … ┆ 3   ┆ 202103  ┆ Agua de colonia fresca  ┆ 1331     │\n",
       "│ .es/prod…                ┆              ┆                        ┆ infantil …              ┆   ┆     ┆         ┆ infantil …              ┆          │\n",
       "│ https://tienda.mercadona ┆ mercadona-es ┆ bebe_higiene_y_cuidado ┆ Agua de colonia fresca  ┆ … ┆ 3   ┆ 202103  ┆ Agua de colonia fresca  ┆ 1331     │\n",
       "│ .es/prod…                ┆              ┆                        ┆ infantil …              ┆   ┆     ┆         ┆ infantil …              ┆          │\n",
       "│ https://tienda.mercadona ┆ mercadona-es ┆ bebe_higiene_y_cuidado ┆ Agua de colonia fresca  ┆ … ┆ 3   ┆ 202103  ┆ Agua de colonia fresca  ┆ 1331     │\n",
       "│ .es/prod…                ┆              ┆                        ┆ infantil …              ┆   ┆     ┆         ┆ infantil …              ┆          │\n",
       "│ https://tienda.mercadona ┆ mercadona-es ┆ bebe_higiene_y_cuidado ┆ Agua de colonia fresca  ┆ … ┆ 3   ┆ 202103  ┆ Agua de colonia fresca  ┆ 1331     │\n",
       "│ .es/prod…                ┆              ┆                        ┆ infantil …              ┆   ┆     ┆         ┆ infantil …              ┆          │\n",
       "│ https://tienda.mercadona ┆ mercadona-es ┆ bebe_higiene_y_cuidado ┆ Agua de colonia fresca  ┆ … ┆ 3   ┆ 202103  ┆ Agua de colonia fresca  ┆ 1331     │\n",
       "│ .es/prod…                ┆              ┆                        ┆ infantil …              ┆   ┆     ┆         ┆ infantil …              ┆          │\n",
       "└──────────────────────────┴──────────────┴────────────────────────┴─────────────────────────┴───┴─────┴─────────┴─────────────────────────┴──────────┘"
      ]
     },
     "execution_count": null,
     "metadata": {},
     "output_type": "execute_result"
    }
   ],
   "source": [
    "mercadfred.head()"
   ]
  },
  {
   "cell_type": "code",
   "execution_count": 16,
   "metadata": {},
   "outputs": [
    {
     "data": {
      "text/plain": [
       "['url',\n",
       " 'supermarket',\n",
       " 'category',\n",
       " 'name',\n",
       " 'description',\n",
       " 'price',\n",
       " 'reference_price',\n",
       " 'reference_unit',\n",
       " 'insert_date',\n",
       " 'product_id',\n",
       " 'midate',\n",
       " 'year',\n",
       " 'mes',\n",
       " 'yearmon',\n",
       " 'namedesc',\n",
       " 'qty_prod']"
      ]
     },
     "execution_count": null,
     "metadata": {},
     "output_type": "execute_result"
    }
   ],
   "source": [
    "mercadfred.names"
   ]
  },
  {
   "cell_type": "markdown",
   "metadata": {},
   "source": [
    "+ Queremos calcular para cada producto _name_desc_, el valor que tuvo en el mínimo de _yearmon_.\n",
    "+ Y el valor que tuvo para el máximo de _yearmon_."
   ]
  },
  {
   "cell_type": "code",
   "execution_count": 17,
   "metadata": {},
   "outputs": [
    {
     "data": {
      "text/html": [
       "<div><style>\n",
       ".dataframe > thead > tr > th,\n",
       ".dataframe > tbody > tr > td {\n",
       "  text-align: right;\n",
       "}\n",
       "</style>\n",
       "<small>shape: (5, 3)</small><table border=\"1\" class=\"dataframe\"><thead><tr><th>namedesc</th><th>minyear</th><th>price</th></tr><tr><td>str</td><td>i64</td><td>f64</td></tr></thead><tbody><tr><td>&quot;Preparado láct…</td><td>202103</td><td>6.0</td></tr><tr><td>&quot;Preparado láct…</td><td>202103</td><td>1.55</td></tr><tr><td>&quot;Preparado láct…</td><td>202103</td><td>6.6</td></tr><tr><td>&quot;Preparado láct…</td><td>202103</td><td>1.65</td></tr><tr><td>&quot;Preparado láct…</td><td>202103</td><td>7.2</td></tr></tbody></table></div>"
      ],
      "text/plain": [
       "shape: (5, 3)\n",
       "┌───────────────────────────────────┬─────────┬───────┐\n",
       "│ namedesc                          ┆ minyear ┆ price │\n",
       "│ ---                               ┆ ---     ┆ ---   │\n",
       "│ str                               ┆ i64     ┆ f64   │\n",
       "╞═══════════════════════════════════╪═════════╪═══════╡\n",
       "│ Preparado lácteo crecimiento +1 … ┆ 202103  ┆ 6.0   │\n",
       "│ Preparado lácteo crecimiento +1 … ┆ 202103  ┆ 1.55  │\n",
       "│ Preparado lácteo crecimiento +1 … ┆ 202103  ┆ 6.6   │\n",
       "│ Preparado lácteo crecimiento +1 … ┆ 202103  ┆ 1.65  │\n",
       "│ Preparado lácteo crecimiento +1 … ┆ 202103  ┆ 7.2   │\n",
       "└───────────────────────────────────┴─────────┴───────┘"
      ]
     },
     "execution_count": null,
     "metadata": {},
     "output_type": "execute_result"
    }
   ],
   "source": [
    "prod_min = (\n",
    "    mercadfred\n",
    "    .mutate( minyear = tp.min('yearmon'), by = 'namedesc')\n",
    "    .select( col('namedesc'), col('minyear'), col('price'))\n",
    "    .distinct()\n",
    ")\n",
    "prod_min.head()"
   ]
  },
  {
   "cell_type": "markdown",
   "metadata": {},
   "source": [
    "+ El problema que vemos es que para el mismo producto y en el mismo año tenemos diferentes valores. \n",
    "+ El origen de este problema es que cada producto tiene un \"product_id\", es realmente este el campo por el que tenemos que hacer todas las agrupaciones que hemos hecho hasta ahora.\n",
    "+ Lo repetimos en la siguiente instrucción."
   ]
  },
  {
   "cell_type": "code",
   "execution_count": 18,
   "metadata": {},
   "outputs": [
    {
     "data": {
      "text/html": [
       "<div><style>\n",
       ".dataframe > thead > tr > th,\n",
       ".dataframe > tbody > tr > td {\n",
       "  text-align: right;\n",
       "}\n",
       "</style>\n",
       "<small>shape: (5, 16)</small><table border=\"1\" class=\"dataframe\"><thead><tr><th>url</th><th>supermarket</th><th>category</th><th>name</th><th>description</th><th>price</th><th>reference_price</th><th>reference_unit</th><th>insert_date</th><th>product_id</th><th>midate</th><th>year</th><th>mes</th><th>yearmon</th><th>namedesc</th><th>qty_prod</th></tr><tr><td>str</td><td>str</td><td>str</td><td>str</td><td>str</td><td>f64</td><td>f64</td><td>str</td><td>str</td><td>str</td><td>datetime[μs]</td><td>i32</td><td>u32</td><td>i64</td><td>str</td><td>u32</td></tr></thead><tbody><tr><td>&quot;https://tienda…</td><td>&quot;mercadona-es&quot;</td><td>&quot;cereales_y_gal…</td><td>&quot;Tortitas de ma…</td><td>&quot;Paquete&quot;</td><td>1.5</td><td>11.54</td><td>&quot;kg&quot;</td><td>&quot;2021-03-06 00:…</td><td>&quot;9674a678fd583d…</td><td>2021-03-06 00:00:00</td><td>2021</td><td>3</td><td>202103</td><td>&quot;Tortitas de ma…</td><td>672</td></tr><tr><td>&quot;https://tienda…</td><td>&quot;mercadona-es&quot;</td><td>&quot;cereales_y_gal…</td><td>&quot;Tortitas de ma…</td><td>&quot;Paquete&quot;</td><td>1.5</td><td>11.54</td><td>&quot;kg&quot;</td><td>&quot;2021-03-07 00:…</td><td>&quot;9674a678fd583d…</td><td>2021-03-07 00:00:00</td><td>2021</td><td>3</td><td>202103</td><td>&quot;Tortitas de ma…</td><td>672</td></tr><tr><td>&quot;https://tienda…</td><td>&quot;mercadona-es&quot;</td><td>&quot;cereales_y_gal…</td><td>&quot;Tortitas de ma…</td><td>&quot;Paquete&quot;</td><td>1.5</td><td>11.54</td><td>&quot;kg&quot;</td><td>&quot;2021-03-08 00:…</td><td>&quot;9674a678fd583d…</td><td>2021-03-08 00:00:00</td><td>2021</td><td>3</td><td>202103</td><td>&quot;Tortitas de ma…</td><td>672</td></tr><tr><td>&quot;https://tienda…</td><td>&quot;mercadona-es&quot;</td><td>&quot;cereales_y_gal…</td><td>&quot;Tortitas de ma…</td><td>&quot;Paquete&quot;</td><td>1.5</td><td>11.54</td><td>&quot;kg&quot;</td><td>&quot;2021-03-09 00:…</td><td>&quot;9674a678fd583d…</td><td>2021-03-09 00:00:00</td><td>2021</td><td>3</td><td>202103</td><td>&quot;Tortitas de ma…</td><td>672</td></tr><tr><td>&quot;https://tienda…</td><td>&quot;mercadona-es&quot;</td><td>&quot;cereales_y_gal…</td><td>&quot;Tortitas de ma…</td><td>&quot;Paquete&quot;</td><td>1.5</td><td>11.54</td><td>&quot;kg&quot;</td><td>&quot;2021-03-10 00:…</td><td>&quot;9674a678fd583d…</td><td>2021-03-10 00:00:00</td><td>2021</td><td>3</td><td>202103</td><td>&quot;Tortitas de ma…</td><td>672</td></tr></tbody></table></div>"
      ],
      "text/plain": [
       "shape: (5, 16)\n",
       "┌────────────────────────────┬──────────────┬────────────────────────────┬──────────────────────┬───┬─────┬─────────┬──────────────────────┬──────────┐\n",
       "│ url                        ┆ supermarket  ┆ category                   ┆ name                 ┆ … ┆ mes ┆ yearmon ┆ namedesc             ┆ qty_prod │\n",
       "│ ---                        ┆ ---          ┆ ---                        ┆ ---                  ┆   ┆ --- ┆ ---     ┆ ---                  ┆ ---      │\n",
       "│ str                        ┆ str          ┆ str                        ┆ str                  ┆   ┆ u32 ┆ i64     ┆ str                  ┆ u32      │\n",
       "╞════════════════════════════╪══════════════╪════════════════════════════╪══════════════════════╪═══╪═════╪═════════╪══════════════════════╪══════════╡\n",
       "│ https://tienda.mercadona.e ┆ mercadona-es ┆ cereales_y_galletas_tortit ┆ Tortitas de maíz con ┆ … ┆ 3   ┆ 202103  ┆ Tortitas de maíz con ┆ 672      │\n",
       "│ s/prod…                    ┆              ┆ as                         ┆ chocolate H…         ┆   ┆     ┆         ┆ chocolate H…         ┆          │\n",
       "│ https://tienda.mercadona.e ┆ mercadona-es ┆ cereales_y_galletas_tortit ┆ Tortitas de maíz con ┆ … ┆ 3   ┆ 202103  ┆ Tortitas de maíz con ┆ 672      │\n",
       "│ s/prod…                    ┆              ┆ as                         ┆ chocolate H…         ┆   ┆     ┆         ┆ chocolate H…         ┆          │\n",
       "│ https://tienda.mercadona.e ┆ mercadona-es ┆ cereales_y_galletas_tortit ┆ Tortitas de maíz con ┆ … ┆ 3   ┆ 202103  ┆ Tortitas de maíz con ┆ 672      │\n",
       "│ s/prod…                    ┆              ┆ as                         ┆ chocolate H…         ┆   ┆     ┆         ┆ chocolate H…         ┆          │\n",
       "│ https://tienda.mercadona.e ┆ mercadona-es ┆ cereales_y_galletas_tortit ┆ Tortitas de maíz con ┆ … ┆ 3   ┆ 202103  ┆ Tortitas de maíz con ┆ 672      │\n",
       "│ s/prod…                    ┆              ┆ as                         ┆ chocolate H…         ┆   ┆     ┆         ┆ chocolate H…         ┆          │\n",
       "│ https://tienda.mercadona.e ┆ mercadona-es ┆ cereales_y_galletas_tortit ┆ Tortitas de maíz con ┆ … ┆ 3   ┆ 202103  ┆ Tortitas de maíz con ┆ 672      │\n",
       "│ s/prod…                    ┆              ┆ as                         ┆ chocolate H…         ┆   ┆     ┆         ┆ chocolate H…         ┆          │\n",
       "└────────────────────────────┴──────────────┴────────────────────────────┴──────────────────────┴───┴─────┴─────────┴──────────────────────┴──────────┘"
      ]
     },
     "execution_count": null,
     "metadata": {},
     "output_type": "execute_result"
    }
   ],
   "source": [
    "mercadf = (\n",
    "    mercadf\n",
    "    .mutate(qty_prod = tp.n(), by = 'product_id' )\n",
    "    .arrange(tp.desc('qty_prod'))\n",
    ")\n",
    "mercadf.head()"
   ]
  },
  {
   "cell_type": "code",
   "execution_count": 19,
   "metadata": {},
   "outputs": [
    {
     "data": {
      "text/plain": [
       "3520349"
      ]
     },
     "execution_count": null,
     "metadata": {},
     "output_type": "execute_result"
    }
   ],
   "source": [
    "mercadfred = (\n",
    "    mercadf\n",
    "    .filter( col('qty_prod') >= 100 )\n",
    "    .filter( str_length(col('namedesc')) > 1)\n",
    ")\n",
    "mercadfred.nrow"
   ]
  },
  {
   "cell_type": "code",
   "execution_count": 20,
   "metadata": {},
   "outputs": [
    {
     "data": {
      "text/plain": [
       "7056"
      ]
     },
     "execution_count": null,
     "metadata": {},
     "output_type": "execute_result"
    }
   ],
   "source": [
    "prodorder = mercadfred.count(col('product_id')).arrange(tp.desc('n'))\n",
    "prodorder.nrow"
   ]
  },
  {
   "cell_type": "markdown",
   "metadata": {},
   "source": [
    "+ Ahora vamos a extraer para para cada \"product_id\" el año/mes mínimo (cuando fue introducido en la lista).\n",
    "+ Y escogeremos la fila en la que \"yearmon\" es igual al valor de \"minyear\". \n",
    "+ Ordenamos la salida por \"product_id\" y ese año mínimo."
   ]
  },
  {
   "cell_type": "code",
   "execution_count": 21,
   "metadata": {},
   "outputs": [
    {
     "data": {
      "text/html": [
       "<div><style>\n",
       ".dataframe > thead > tr > th,\n",
       ".dataframe > tbody > tr > td {\n",
       "  text-align: right;\n",
       "}\n",
       "</style>\n",
       "<small>shape: (5, 5)</small><table border=\"1\" class=\"dataframe\"><thead><tr><th>namedesc</th><th>product_id</th><th>minyear</th><th>price</th><th>qty_prod</th></tr><tr><td>str</td><td>str</td><td>i64</td><td>f64</td><td>u32</td></tr></thead><tbody><tr><td>&quot;Comprimidos Vi…</td><td>&quot;000d8079b6a0da…</td><td>202201</td><td>4.0</td><td>356</td></tr><tr><td>&quot;Patatas bravas…</td><td>&quot;00150166e7c5c1…</td><td>202209</td><td>1.45</td><td>112</td></tr><tr><td>&quot;Baño de color …</td><td>&quot;0015c4bf6eb2d4…</td><td>202107</td><td>4.6</td><td>551</td></tr><tr><td>&quot;Mini eau de pa…</td><td>&quot;0023b050194a9f…</td><td>202103</td><td>1.5</td><td>139</td></tr><tr><td>&quot;Queso rallado …</td><td>&quot;002c7f51dd28e4…</td><td>202204</td><td>1.4</td><td>270</td></tr></tbody></table></div>"
      ],
      "text/plain": [
       "shape: (5, 5)\n",
       "┌───────────────────────────────────┬──────────────────────────────────┬─────────┬───────┬──────────┐\n",
       "│ namedesc                          ┆ product_id                       ┆ minyear ┆ price ┆ qty_prod │\n",
       "│ ---                               ┆ ---                              ┆ ---     ┆ ---   ┆ ---      │\n",
       "│ str                               ┆ str                              ┆ i64     ┆ f64   ┆ u32      │\n",
       "╞═══════════════════════════════════╪══════════════════════════════════╪═════════╪═══════╪══════════╡\n",
       "│ Comprimidos Vitamina D3 2000 ui … ┆ 000d8079b6a0daae2b0267126ae9adbf ┆ 202201  ┆ 4.0   ┆ 356      │\n",
       "│ Patatas bravas Hacendado ultraco… ┆ 00150166e7c5c1bd0da8909cb80072ee ┆ 202209  ┆ 1.45  ┆ 112      │\n",
       "│ Baño de color 210 negro azulado … ┆ 0015c4bf6eb2d44a1ebb32f0999a2e2b ┆ 202107  ┆ 4.6   ┆ 551      │\n",
       "│ Mini eau de parfum hombre Flor d… ┆ 0023b050194a9f4b764860f3e563a9c5 ┆ 202103  ┆ 1.5   ┆ 139      │\n",
       "│ Queso rallado Gouda Hacendado_Pa… ┆ 002c7f51dd28e4f640ae52f12dfe1f1a ┆ 202204  ┆ 1.4   ┆ 270      │\n",
       "└───────────────────────────────────┴──────────────────────────────────┴─────────┴───────┴──────────┘"
      ]
     },
     "execution_count": null,
     "metadata": {},
     "output_type": "execute_result"
    }
   ],
   "source": [
    "prod_min = (\n",
    "    mercadfred\n",
    "    .mutate( minyear = tp.min('yearmon'), by = 'product_id')\n",
    "    .mutate( isminyear = tp.if_else(col('yearmon') == col('minyear'), 1, 0))\n",
    "    .filter( col('isminyear') == 1)\n",
    "    .select( col('namedesc'), col('product_id'), col('minyear'), col('price'), col('qty_prod'))\n",
    "    .distinct()\n",
    "    .arrange(col('product_id'), tp.desc('minyear'), col('price'))\n",
    ")\n",
    "prod_min.head()"
   ]
  },
  {
   "cell_type": "markdown",
   "metadata": {},
   "source": [
    "+ Vemos que para cada name/product y \"product_id\" puede haber varias entradas, que pueden corresponder a diferentes días del mes.\n",
    "+ Como aproximación cogeremos el mínimo del mes en el precio. Aunque podríamos generar una nueva variable con el día añadido a la fecha y coger el día mínimo igualmente.\n",
    "+ Del conjunto anterior, para cada \"product_id\" como está ordenado por \"product_id\" y \"minyear\", cogeríamos el primer elemento.\n",
    "+ Cambiamos el nombre del \"price\" a \"price_min\"."
   ]
  },
  {
   "cell_type": "code",
   "execution_count": 22,
   "metadata": {},
   "outputs": [
    {
     "data": {
      "text/html": [
       "<div><style>\n",
       ".dataframe > thead > tr > th,\n",
       ".dataframe > tbody > tr > td {\n",
       "  text-align: right;\n",
       "}\n",
       "</style>\n",
       "<small>shape: (5, 5)</small><table border=\"1\" class=\"dataframe\"><thead><tr><th>namedesc</th><th>product_id</th><th>minyear</th><th>price_min</th><th>qty_prod</th></tr><tr><td>str</td><td>str</td><td>i64</td><td>f64</td><td>u32</td></tr></thead><tbody><tr><td>&quot;Barritas de ce…</td><td>&quot;f3d5316604b0ca…</td><td>202103</td><td>0.97</td><td>672</td></tr><tr><td>&quot;Queso blando P…</td><td>&quot;856f9c82b08003…</td><td>202103</td><td>2.38</td><td>672</td></tr><tr><td>&quot;Queso manchego…</td><td>&quot;289bbc78a68bfc…</td><td>202103</td><td>4.55</td><td>672</td></tr><tr><td>&quot;Trucha sin ale…</td><td>&quot;3203e4120c3460…</td><td>202103</td><td>3.45</td><td>672</td></tr><tr><td>&quot;Cerveza Heinek…</td><td>&quot;0ba00d7bd552f1…</td><td>202103</td><td>0.66</td><td>672</td></tr></tbody></table></div>"
      ],
      "text/plain": [
       "shape: (5, 5)\n",
       "┌───────────────────────────────────┬──────────────────────────────────┬─────────┬───────────┬──────────┐\n",
       "│ namedesc                          ┆ product_id                       ┆ minyear ┆ price_min ┆ qty_prod │\n",
       "│ ---                               ┆ ---                              ┆ ---     ┆ ---       ┆ ---      │\n",
       "│ str                               ┆ str                              ┆ i64     ┆ f64       ┆ u32      │\n",
       "╞═══════════════════════════════════╪══════════════════════════════════╪═════════╪═══════════╪══════════╡\n",
       "│ Barritas de cereales muesli Hace… ┆ f3d5316604b0ca99d0d4734567775d41 ┆ 202103  ┆ 0.97      ┆ 672      │\n",
       "│ Queso blando Président snack_Paq… ┆ 856f9c82b080031df390110e62d13ac2 ┆ 202103  ┆ 2.38      ┆ 672      │\n",
       "│ Queso manchego Hacendado Dop cur… ┆ 289bbc78a68bfc5717e41f73a02ae8ab ┆ 202103  ┆ 4.55      ┆ 672      │\n",
       "│ Trucha sin aletas_Pieza           ┆ 3203e4120c34606d3a01df10680d1f8f ┆ 202103  ┆ 3.45      ┆ 672      │\n",
       "│ Cerveza Heineken_Lata             ┆ 0ba00d7bd552f1eaf821d80581b2528a ┆ 202103  ┆ 0.66      ┆ 672      │\n",
       "└───────────────────────────────────┴──────────────────────────────────┴─────────┴───────────┴──────────┘"
      ]
     },
     "execution_count": null,
     "metadata": {},
     "output_type": "execute_result"
    }
   ],
   "source": [
    "prodmin_gd = (\n",
    "    prod_min\n",
    "    .slice_head(1, by = 'product_id')\n",
    "    .arrange(tp.desc('qty_prod'))\n",
    "    .rename( price_min = 'price')\n",
    ")\n",
    "prodmin_gd.head()"
   ]
  },
  {
   "cell_type": "markdown",
   "metadata": {},
   "source": [
    "+ Y ahora hacemos lo mismo para el precio del último mes (el máximo mes) en el que el producto entró en la lista."
   ]
  },
  {
   "cell_type": "code",
   "execution_count": 23,
   "metadata": {},
   "outputs": [
    {
     "data": {
      "text/html": [
       "<div><style>\n",
       ".dataframe > thead > tr > th,\n",
       ".dataframe > tbody > tr > td {\n",
       "  text-align: right;\n",
       "}\n",
       "</style>\n",
       "<small>shape: (5, 5)</small><table border=\"1\" class=\"dataframe\"><thead><tr><th>namedesc</th><th>product_id</th><th>maxyear</th><th>price_max</th><th>qty_prod</th></tr><tr><td>str</td><td>str</td><td>i64</td><td>f64</td><td>u32</td></tr></thead><tbody><tr><td>&quot;Refresco de li…</td><td>&quot;9575aa5c97af7c…</td><td>202301</td><td>2.1</td><td>672</td></tr><tr><td>&quot;Ambientador co…</td><td>&quot;3c4fbd64c4375d…</td><td>202301</td><td>1.85</td><td>672</td></tr><tr><td>&quot;Recambios reca…</td><td>&quot;599ed3a565f5e0…</td><td>202301</td><td>3.15</td><td>672</td></tr><tr><td>&quot;Cápsulas contr…</td><td>&quot;9def5af6e14252…</td><td>202301</td><td>4.5</td><td>672</td></tr><tr><td>&quot;Zumo de naranj…</td><td>&quot;63c05c6e32a1b8…</td><td>202301</td><td>1.59</td><td>672</td></tr></tbody></table></div>"
      ],
      "text/plain": [
       "shape: (5, 5)\n",
       "┌───────────────────────────────────┬──────────────────────────────────┬─────────┬───────────┬──────────┐\n",
       "│ namedesc                          ┆ product_id                       ┆ maxyear ┆ price_max ┆ qty_prod │\n",
       "│ ---                               ┆ ---                              ┆ ---     ┆ ---       ┆ ---      │\n",
       "│ str                               ┆ str                              ┆ i64     ┆ f64       ┆ u32      │\n",
       "╞═══════════════════════════════════╪══════════════════════════════════╪═════════╪═══════════╪══════════╡\n",
       "│ Refresco de limón Hacendado zero… ┆ 9575aa5c97af7c78a597c6a7132fa418 ┆ 202301  ┆ 2.1       ┆ 672      │\n",
       "│ Ambientador coche Exótico Bosque… ┆ 3c4fbd64c4375d2a4e7b8102663e22b5 ┆ 202301  ┆ 1.85      ┆ 672      │\n",
       "│ Recambios recarga aspirador nasa… ┆ 599ed3a565f5e02897453095099b59ef ┆ 202301  ┆ 3.15      ┆ 672      │\n",
       "│ Cápsulas control calorías Forte … ┆ 9def5af6e14252efe09c744a5248c575 ┆ 202301  ┆ 4.5       ┆ 672      │\n",
       "│ Zumo de naranja recién exprimido… ┆ 63c05c6e32a1b8ee96e9e059c9a8975b ┆ 202301  ┆ 1.59      ┆ 672      │\n",
       "└───────────────────────────────────┴──────────────────────────────────┴─────────┴───────────┴──────────┘"
      ]
     },
     "execution_count": null,
     "metadata": {},
     "output_type": "execute_result"
    }
   ],
   "source": [
    "prod_max = (\n",
    "    mercadfred\n",
    "    .mutate( maxyear = tp.max('yearmon'), by = 'product_id')\n",
    "    .mutate( ismaxyear = tp.if_else(col('yearmon') == col('maxyear'), 1, 0))\n",
    "    .filter( col('ismaxyear') == 1)\n",
    "    .select( col('namedesc'), col('product_id'), col('maxyear'), col('price'), col('qty_prod'))\n",
    "    .distinct()\n",
    "    .arrange(col('product_id'), tp.desc('maxyear'), col('price'))\n",
    ")\n",
    "prod_max.head()\n",
    "\n",
    "prodmax_gd = (\n",
    "    prod_max\n",
    "    .slice_head(1, by = 'product_id')\n",
    "    .arrange(tp.desc('qty_prod'))\n",
    "    .rename( price_max = 'price')\n",
    ")\n",
    "prodmax_gd.head()"
   ]
  },
  {
   "cell_type": "markdown",
   "metadata": {},
   "source": [
    "+ Ahora tenemos que juntar los dos dataframes por \"product_id\" y \"namedesc\" y así tendremos el \"price_min\" y el \"price_max\"."
   ]
  },
  {
   "cell_type": "code",
   "execution_count": 24,
   "metadata": {},
   "outputs": [
    {
     "data": {
      "text/html": [
       "<div><style>\n",
       ".dataframe > thead > tr > th,\n",
       ".dataframe > tbody > tr > td {\n",
       "  text-align: right;\n",
       "}\n",
       "</style>\n",
       "<small>shape: (7056, 8)</small><table border=\"1\" class=\"dataframe\"><thead><tr><th>namedesc</th><th>product_id</th><th>minyear</th><th>price_min</th><th>qty_prod</th><th>maxyear</th><th>price_max</th><th>qty_prod_right</th></tr><tr><td>str</td><td>str</td><td>i64</td><td>f64</td><td>u32</td><td>i64</td><td>f64</td><td>u32</td></tr></thead><tbody><tr><td>&quot;Barritas de ce…</td><td>&quot;f3d5316604b0ca…</td><td>202103</td><td>0.97</td><td>672</td><td>202301</td><td>1.0</td><td>672</td></tr><tr><td>&quot;Queso blando P…</td><td>&quot;856f9c82b08003…</td><td>202103</td><td>2.38</td><td>672</td><td>null</td><td>null</td><td>null</td></tr><tr><td>&quot;Queso manchego…</td><td>&quot;289bbc78a68bfc…</td><td>202103</td><td>4.55</td><td>672</td><td>null</td><td>null</td><td>null</td></tr><tr><td>&quot;Trucha sin ale…</td><td>&quot;3203e4120c3460…</td><td>202103</td><td>3.45</td><td>672</td><td>202301</td><td>3.57</td><td>672</td></tr><tr><td>&quot;Cerveza Heinek…</td><td>&quot;0ba00d7bd552f1…</td><td>202103</td><td>0.66</td><td>672</td><td>202301</td><td>0.82</td><td>672</td></tr><tr><td>&quot;Refresco té co…</td><td>&quot;746edeeb5f3e5f…</td><td>202103</td><td>1.3</td><td>672</td><td>202301</td><td>1.3</td><td>672</td></tr><tr><td>&quot;Mozzarella di …</td><td>&quot;3da1a7b2bede9b…</td><td>202103</td><td>1.7</td><td>672</td><td>202301</td><td>1.73</td><td>672</td></tr><tr><td>&quot;Pan de hamburg…</td><td>&quot;70d3037ce88a9d…</td><td>202103</td><td>0.85</td><td>672</td><td>202301</td><td>1.0</td><td>672</td></tr><tr><td>&quot;Limpiador de p…</td><td>&quot;77b4379c0316e8…</td><td>202103</td><td>2.9</td><td>672</td><td>null</td><td>null</td><td>null</td></tr><tr><td>&quot;Coloración per…</td><td>&quot;54c4c10e10ab5a…</td><td>202103</td><td>3.9</td><td>672</td><td>202301</td><td>3.9</td><td>672</td></tr><tr><td>&quot;Agua mineral g…</td><td>&quot;cca0beef13b041…</td><td>202103</td><td>0.6</td><td>672</td><td>202301</td><td>0.73</td><td>672</td></tr><tr><td>&quot;Compresa con a…</td><td>&quot;c671cdbdb63d15…</td><td>202103</td><td>1.95</td><td>672</td><td>202301</td><td>1.84</td><td>672</td></tr><tr><td>&hellip;</td><td>&hellip;</td><td>&hellip;</td><td>&hellip;</td><td>&hellip;</td><td>&hellip;</td><td>&hellip;</td><td>&hellip;</td></tr><tr><td>&quot;Dentífrico gel…</td><td>&quot;05d83f7e5c21ba…</td><td>202103</td><td>0.85</td><td>101</td><td>202106</td><td>0.85</td><td>101</td></tr><tr><td>&quot;Mermelada de f…</td><td>&quot;faa9b830fe81ca…</td><td>202209</td><td>2.4</td><td>101</td><td>202301</td><td>2.4</td><td>101</td></tr><tr><td>&quot;Maíz frito gig…</td><td>&quot;ae6c68b6642321…</td><td>202103</td><td>0.9</td><td>101</td><td>202106</td><td>0.9</td><td>101</td></tr><tr><td>&quot;Caqui persimón…</td><td>&quot;adc31e03f5daa8…</td><td>202110</td><td>1.7</td><td>101</td><td>null</td><td>null</td><td>null</td></tr><tr><td>&quot;Lote infantil …</td><td>&quot;0b7d95db243a67…</td><td>202207</td><td>9.5</td><td>101</td><td>202210</td><td>9.5</td><td>101</td></tr><tr><td>&quot;Galletas Rodit…</td><td>&quot;0c95e839a0cbe8…</td><td>202103</td><td>0.57</td><td>101</td><td>202106</td><td>0.57</td><td>101</td></tr><tr><td>&quot;Lote infantil …</td><td>&quot;7e47f26fb6006d…</td><td>202209</td><td>9.0</td><td>100</td><td>202212</td><td>9.0</td><td>100</td></tr><tr><td>&quot;Lote mujer 9.6…</td><td>&quot;16829e15c8a22c…</td><td>202202</td><td>5.0</td><td>100</td><td>202206</td><td>5.0</td><td>100</td></tr><tr><td>&quot;Lote mujer Adi…</td><td>&quot;8911386c23f76d…</td><td>202209</td><td>13.0</td><td>100</td><td>202301</td><td>13.0</td><td>100</td></tr><tr><td>&quot;Lote hombre Ad…</td><td>&quot;6b416a496e0648…</td><td>202209</td><td>13.0</td><td>100</td><td>202301</td><td>13.0</td><td>100</td></tr><tr><td>&quot;Preparado en p…</td><td>&quot;1462f2f9fade27…</td><td>202103</td><td>1.5</td><td>100</td><td>202106</td><td>1.5</td><td>100</td></tr><tr><td>&quot;Galletas Rodit…</td><td>&quot;6a7ed1a97cabd7…</td><td>202103</td><td>0.57</td><td>100</td><td>202106</td><td>0.57</td><td>100</td></tr></tbody></table></div>"
      ],
      "text/plain": [
       "shape: (7056, 8)\n",
       "┌───────────────────────────────────┬──────────────────────────────────┬─────────┬───────────┬──────────┬─────────┬───────────┬────────────────┐\n",
       "│ namedesc                          ┆ product_id                       ┆ minyear ┆ price_min ┆ qty_prod ┆ maxyear ┆ price_max ┆ qty_prod_right │\n",
       "│ ---                               ┆ ---                              ┆ ---     ┆ ---       ┆ ---      ┆ ---     ┆ ---       ┆ ---            │\n",
       "│ str                               ┆ str                              ┆ i64     ┆ f64       ┆ u32      ┆ i64     ┆ f64       ┆ u32            │\n",
       "╞═══════════════════════════════════╪══════════════════════════════════╪═════════╪═══════════╪══════════╪═════════╪═══════════╪════════════════╡\n",
       "│ Barritas de cereales muesli Hace… ┆ f3d5316604b0ca99d0d4734567775d41 ┆ 202103  ┆ 0.97      ┆ 672      ┆ 202301  ┆ 1.0       ┆ 672            │\n",
       "│ Queso blando Président snack_Paq… ┆ 856f9c82b080031df390110e62d13ac2 ┆ 202103  ┆ 2.38      ┆ 672      ┆ null    ┆ null      ┆ null           │\n",
       "│ Queso manchego Hacendado Dop cur… ┆ 289bbc78a68bfc5717e41f73a02ae8ab ┆ 202103  ┆ 4.55      ┆ 672      ┆ null    ┆ null      ┆ null           │\n",
       "│ Trucha sin aletas_Pieza           ┆ 3203e4120c34606d3a01df10680d1f8f ┆ 202103  ┆ 3.45      ┆ 672      ┆ 202301  ┆ 3.57      ┆ 672            │\n",
       "│ …                                 ┆ …                                ┆ …       ┆ …         ┆ …        ┆ …       ┆ …         ┆ …              │\n",
       "│ Lote mujer Adidas Fruity Rhythm_… ┆ 8911386c23f76d8880f486c6a598d1e5 ┆ 202209  ┆ 13.0      ┆ 100      ┆ 202301  ┆ 13.0      ┆ 100            │\n",
       "│ Lote hombre Adidas Champions_Caj… ┆ 6b416a496e06482b94d5ba9fd3c737d5 ┆ 202209  ┆ 13.0      ┆ 100      ┆ 202301  ┆ 13.0      ┆ 100            │\n",
       "│ Preparado en polvo para pancakes… ┆ 1462f2f9fade27eadf004560e0ac441b ┆ 202103  ┆ 1.5       ┆ 100      ┆ 202106  ┆ 1.5       ┆ 100            │\n",
       "│ Galletas Roditas bañadas con cho… ┆ 6a7ed1a97cabd7c84c56cd24d3088fe0 ┆ 202103  ┆ 0.57      ┆ 100      ┆ 202106  ┆ 0.57      ┆ 100            │\n",
       "└───────────────────────────────────┴──────────────────────────────────┴─────────┴───────────┴──────────┴─────────┴───────────┴────────────────┘"
      ]
     },
     "execution_count": null,
     "metadata": {},
     "output_type": "execute_result"
    }
   ],
   "source": [
    "dfminmax = (\n",
    "    prodmin_gd.left_join(prodmax_gd, left_on = [ 'namedesc','product_id'], right_on = ['namedesc','product_id'])\n",
    ")\n",
    "dfminmax"
   ]
  },
  {
   "cell_type": "markdown",
   "metadata": {},
   "source": [
    "+ Observamos varias cosas:\n",
    "    + Que tenemos valores de _maxyear_ que son nulos. Seguramente porque la fecha no estaba bien y no se pudo calcular el año y el mes. Estas columnas las tendremos que quitar.\n",
    "    + Que podemos calcular el porcentaje de variación entre el _precio_max_ (que es el precio en el máximo del meses) y el _price_min_ (el precio en el año/mes mínimo).\n",
    "\n",
    "+ El resultado lo ordenaremos de mayor a menor, el porcentaje de variación."
   ]
  },
  {
   "cell_type": "code",
   "execution_count": 25,
   "metadata": {},
   "outputs": [
    {
     "data": {
      "text/html": [
       "<div><style>\n",
       ".dataframe > thead > tr > th,\n",
       ".dataframe > tbody > tr > td {\n",
       "  text-align: right;\n",
       "}\n",
       "</style>\n",
       "<small>shape: (15, 9)</small><table border=\"1\" class=\"dataframe\"><thead><tr><th>namedesc</th><th>product_id</th><th>minyear</th><th>price_min</th><th>qty_prod</th><th>maxyear</th><th>price_max</th><th>qty_prod_right</th><th>deltaprice</th></tr><tr><td>str</td><td>str</td><td>i64</td><td>f64</td><td>u32</td><td>i64</td><td>f64</td><td>u32</td><td>f64</td></tr></thead><tbody><tr><td>&quot;Fresón_Bandeja…</td><td>&quot;b724a364b3e88b…</td><td>202103</td><td>1.25</td><td>240</td><td>202301</td><td>3.84</td><td>240</td><td>207.2</td></tr><tr><td>&quot;Magdalenas Hac…</td><td>&quot;715d7fbc160446…</td><td>202103</td><td>0.95</td><td>467</td><td>202206</td><td>2.35</td><td>467</td><td>147.37</td></tr><tr><td>&quot;Filtros de caf…</td><td>&quot;68711f1e69118e…</td><td>202103</td><td>0.79</td><td>672</td><td>202301</td><td>1.95</td><td>672</td><td>146.84</td></tr><tr><td>&quot;Bicarbonato só…</td><td>&quot;10fde44161d8af…</td><td>202103</td><td>0.45</td><td>672</td><td>202301</td><td>1.1</td><td>672</td><td>144.44</td></tr><tr><td>&quot;Comino en gran…</td><td>&quot;d1f58d4efd83db…</td><td>202103</td><td>0.8</td><td>662</td><td>202301</td><td>1.95</td><td>662</td><td>143.75</td></tr><tr><td>&quot;Croissant Hace…</td><td>&quot;baca7ed2421573…</td><td>202106</td><td>0.95</td><td>310</td><td>202205</td><td>2.2</td><td>310</td><td>131.58</td></tr><tr><td>&quot;Caballa Verdel…</td><td>&quot;c877dbc4e0ea0f…</td><td>202103</td><td>1.22</td><td>156</td><td>202207</td><td>2.74</td><td>156</td><td>124.59</td></tr><tr><td>&quot;Caballa Verdel…</td><td>&quot;7ee40872976441…</td><td>202103</td><td>1.22</td><td>156</td><td>202207</td><td>2.74</td><td>156</td><td>124.59</td></tr><tr><td>&quot;Caballa Verdel…</td><td>&quot;5e1d9f30a0cba4…</td><td>202103</td><td>1.22</td><td>156</td><td>202207</td><td>2.74</td><td>156</td><td>124.59</td></tr><tr><td>&quot;Caballa Verdel…</td><td>&quot;dc2a2a24c96c11…</td><td>202103</td><td>1.22</td><td>156</td><td>202207</td><td>2.74</td><td>156</td><td>124.59</td></tr><tr><td>&quot;Caballa Verdel…</td><td>&quot;1f2d4cb4919396…</td><td>202103</td><td>1.22</td><td>156</td><td>202207</td><td>2.74</td><td>156</td><td>124.59</td></tr><tr><td>&quot;Aceite de oliv…</td><td>&quot;91094af9e53e63…</td><td>202103</td><td>10.6</td><td>672</td><td>202301</td><td>23.62</td><td>672</td><td>122.83</td></tr><tr><td>&quot;Aceite de oliv…</td><td>&quot;ec989048f22368…</td><td>202103</td><td>10.6</td><td>668</td><td>202301</td><td>23.62</td><td>668</td><td>122.83</td></tr><tr><td>&quot;Mayonesa Hellm…</td><td>&quot;cff5c68d3bb476…</td><td>202103</td><td>1.2</td><td>672</td><td>202301</td><td>2.65</td><td>672</td><td>120.83</td></tr><tr><td>&quot;Leche condensa…</td><td>&quot;3f708d2996b06d…</td><td>202103</td><td>1.05</td><td>672</td><td>202301</td><td>2.3</td><td>672</td><td>119.05</td></tr></tbody></table></div>"
      ],
      "text/plain": [
       "shape: (15, 9)\n",
       "┌───────────────────────────────────┬──────────────────────────────────┬─────────┬───────────┬───┬─────────┬───────────┬────────────────┬────────────┐\n",
       "│ namedesc                          ┆ product_id                       ┆ minyear ┆ price_min ┆ … ┆ maxyear ┆ price_max ┆ qty_prod_right ┆ deltaprice │\n",
       "│ ---                               ┆ ---                              ┆ ---     ┆ ---       ┆   ┆ ---     ┆ ---       ┆ ---            ┆ ---        │\n",
       "│ str                               ┆ str                              ┆ i64     ┆ f64       ┆   ┆ i64     ┆ f64       ┆ u32            ┆ f64        │\n",
       "╞═══════════════════════════════════╪══════════════════════════════════╪═════════╪═══════════╪═══╪═════════╪═══════════╪════════════════╪════════════╡\n",
       "│ Fresón_Bandeja                    ┆ b724a364b3e88bae359f5b11dee875ec ┆ 202103  ┆ 1.25      ┆ … ┆ 202301  ┆ 3.84      ┆ 240            ┆ 207.2      │\n",
       "│ Magdalenas Hacendado_Paquete      ┆ 715d7fbc1604465bbcca406cb1c38df8 ┆ 202103  ┆ 0.95      ┆ … ┆ 202206  ┆ 2.35      ┆ 467            ┆ 147.37     │\n",
       "│ Filtros de café para cafeteras t… ┆ 68711f1e69118e18d52ffbe45751819c ┆ 202103  ┆ 0.79      ┆ … ┆ 202301  ┆ 1.95      ┆ 672            ┆ 146.84     │\n",
       "│ Bicarbonato sódico Hacendado_Bot… ┆ 10fde44161d8af883ac0649569fb47b0 ┆ 202103  ┆ 0.45      ┆ … ┆ 202301  ┆ 1.1       ┆ 672            ┆ 144.44     │\n",
       "│ …                                 ┆ …                                ┆ …       ┆ …         ┆ … ┆ …       ┆ …         ┆ …              ┆ …          │\n",
       "│ Aceite de oliva 0,4º Hacendado_G… ┆ 91094af9e53e6378069686a4fae8f52c ┆ 202103  ┆ 10.6      ┆ … ┆ 202301  ┆ 23.62     ┆ 672            ┆ 122.83     │\n",
       "│ Aceite de oliva 1º Hacendado_Gar… ┆ ec989048f22368c883430c3e72773965 ┆ 202103  ┆ 10.6      ┆ … ┆ 202301  ┆ 23.62     ┆ 668            ┆ 122.83     │\n",
       "│ Mayonesa Hellmann's_Tarro         ┆ cff5c68d3bb4767d336ce73dc97df30c ┆ 202103  ┆ 1.2       ┆ … ┆ 202301  ┆ 2.65      ┆ 672            ┆ 120.83     │\n",
       "│ Leche condensada entera Nutricia… ┆ 3f708d2996b06d9494e53924d8043ca0 ┆ 202103  ┆ 1.05      ┆ … ┆ 202301  ┆ 2.3       ┆ 672            ┆ 119.05     │\n",
       "└───────────────────────────────────┴──────────────────────────────────┴─────────┴───────────┴───┴─────────┴───────────┴────────────────┴────────────┘"
      ]
     },
     "execution_count": null,
     "metadata": {},
     "output_type": "execute_result"
    }
   ],
   "source": [
    "dfminmax_end = (\n",
    "    dfminmax\n",
    "    .filter(tp.is_not_null(col('maxyear')))\n",
    "    .mutate(deltaprice = tp.round((col('price_max') - col('price_min'))*100/ col('price_min'),2))\n",
    "    .arrange(tp.desc('deltaprice'))\n",
    ")\n",
    "dfminmax_end.head(15)"
   ]
  },
  {
   "cell_type": "markdown",
   "metadata": {},
   "source": [
    "+ Finalmente obtenemos resultados de interés.\n",
    "+ Hay productos que han tenido variación del 200% (_Fresón_) y en los top-15, tenemos variaciones superiores al 115%. O las \"Magdalenas Hacendado\" que han tenido una variación de 147% en un año.\n",
    "\n",
    "+ Ahora lo que podemos hacer es representar gráficamente la variación en el tiempo de alguno de estos productos con alta variación de precios.\n",
    "+ Escogeremos los cinco primeros productos de la lista anterior para representarles."
   ]
  },
  {
   "cell_type": "code",
   "execution_count": 26,
   "metadata": {},
   "outputs": [
    {
     "data": {
      "text/html": [
       "<div><style>\n",
       ".dataframe > thead > tr > th,\n",
       ".dataframe > tbody > tr > td {\n",
       "  text-align: right;\n",
       "}\n",
       "</style>\n",
       "<small>shape: (5,)</small><table border=\"1\" class=\"dataframe\"><thead><tr><th>product_id</th></tr><tr><td>str</td></tr></thead><tbody><tr><td>&quot;b724a364b3e88b…</td></tr><tr><td>&quot;715d7fbc160446…</td></tr><tr><td>&quot;68711f1e69118e…</td></tr><tr><td>&quot;10fde44161d8af…</td></tr><tr><td>&quot;d1f58d4efd83db…</td></tr></tbody></table></div>"
      ],
      "text/plain": [
       "shape: (5,)\n",
       "Series: 'product_id' [str]\n",
       "[\n",
       "\t\"b724a364b3e88b…\n",
       "\t\"715d7fbc160446…\n",
       "\t\"68711f1e69118e…\n",
       "\t\"10fde44161d8af…\n",
       "\t\"d1f58d4efd83db…\n",
       "]"
      ]
     },
     "execution_count": null,
     "metadata": {},
     "output_type": "execute_result"
    }
   ],
   "source": [
    "top5list = (\n",
    "   dfminmax_end\n",
    "   .select('product_id') \n",
    "   .slice_head(5)\n",
    "   .pull('product_id')\n",
    ")\n",
    "top5list"
   ]
  },
  {
   "cell_type": "markdown",
   "metadata": {},
   "source": [
    "+ Extraemos las filas que cumplen que el \"product_id\" coincide con esta lista de top-5 variaciones.\n",
    "+ Del dataframe extraeremos el \"product_id\" el \"namedesc\", \"yearmon\" y el \"price\""
   ]
  },
  {
   "cell_type": "code",
   "execution_count": 27,
   "metadata": {},
   "outputs": [
    {
     "data": {
      "text/html": [
       "<div><style>\n",
       ".dataframe > thead > tr > th,\n",
       ".dataframe > tbody > tr > td {\n",
       "  text-align: right;\n",
       "}\n",
       "</style>\n",
       "<small>shape: (5, 4)</small><table border=\"1\" class=\"dataframe\"><thead><tr><th>product_id</th><th>namedesc</th><th>yearmon</th><th>price</th></tr><tr><td>str</td><td>str</td><td>i64</td><td>f64</td></tr></thead><tbody><tr><td>&quot;10fde44161d8af…</td><td>&quot;Bicarbonato só…</td><td>202103</td><td>0.45</td></tr><tr><td>&quot;10fde44161d8af…</td><td>&quot;Bicarbonato só…</td><td>202104</td><td>0.45</td></tr><tr><td>&quot;10fde44161d8af…</td><td>&quot;Bicarbonato só…</td><td>202105</td><td>0.45</td></tr><tr><td>&quot;10fde44161d8af…</td><td>&quot;Bicarbonato só…</td><td>202106</td><td>0.45</td></tr><tr><td>&quot;10fde44161d8af…</td><td>&quot;Bicarbonato só…</td><td>202107</td><td>0.45</td></tr></tbody></table></div>"
      ],
      "text/plain": [
       "shape: (5, 4)\n",
       "┌──────────────────────────────────┬───────────────────────────────────┬─────────┬───────┐\n",
       "│ product_id                       ┆ namedesc                          ┆ yearmon ┆ price │\n",
       "│ ---                              ┆ ---                               ┆ ---     ┆ ---   │\n",
       "│ str                              ┆ str                               ┆ i64     ┆ f64   │\n",
       "╞══════════════════════════════════╪═══════════════════════════════════╪═════════╪═══════╡\n",
       "│ 10fde44161d8af883ac0649569fb47b0 ┆ Bicarbonato sódico Hacendado_Bot… ┆ 202103  ┆ 0.45  │\n",
       "│ 10fde44161d8af883ac0649569fb47b0 ┆ Bicarbonato sódico Hacendado_Bot… ┆ 202104  ┆ 0.45  │\n",
       "│ 10fde44161d8af883ac0649569fb47b0 ┆ Bicarbonato sódico Hacendado_Bot… ┆ 202105  ┆ 0.45  │\n",
       "│ 10fde44161d8af883ac0649569fb47b0 ┆ Bicarbonato sódico Hacendado_Bot… ┆ 202106  ┆ 0.45  │\n",
       "│ 10fde44161d8af883ac0649569fb47b0 ┆ Bicarbonato sódico Hacendado_Bot… ┆ 202107  ┆ 0.45  │\n",
       "└──────────────────────────────────┴───────────────────────────────────┴─────────┴───────┘"
      ]
     },
     "execution_count": null,
     "metadata": {},
     "output_type": "execute_result"
    }
   ],
   "source": [
    "top5df = (\n",
    "    mercadf\n",
    "    .filter(tp.is_in(col('product_id'), top5list))\n",
    "    .select('product_id', 'namedesc', 'yearmon', 'price')\n",
    "    .arrange(col('product_id'), col('yearmon'))\n",
    "    .distinct()\n",
    ")\n",
    "top5df.head()"
   ]
  },
  {
   "cell_type": "markdown",
   "metadata": {},
   "source": [
    "+ Para poder pintar hay que convertir este dataframe en un objeto de _pandas_.\n",
    "+ Y luego usaremos \"plotnine\" para su representación."
   ]
  },
  {
   "cell_type": "code",
   "execution_count": 28,
   "metadata": {},
   "outputs": [
    {
     "data": {
      "text/html": [
       "<div>\n",
       "<style scoped>\n",
       "    .dataframe tbody tr th:only-of-type {\n",
       "        vertical-align: middle;\n",
       "    }\n",
       "\n",
       "    .dataframe tbody tr th {\n",
       "        vertical-align: top;\n",
       "    }\n",
       "\n",
       "    .dataframe thead th {\n",
       "        text-align: right;\n",
       "    }\n",
       "</style>\n",
       "<table border=\"1\" class=\"dataframe\">\n",
       "  <thead>\n",
       "    <tr style=\"text-align: right;\">\n",
       "      <th></th>\n",
       "      <th>product_id</th>\n",
       "      <th>namedesc</th>\n",
       "      <th>yearmon</th>\n",
       "      <th>price</th>\n",
       "    </tr>\n",
       "  </thead>\n",
       "  <tbody>\n",
       "    <tr>\n",
       "      <th>0</th>\n",
       "      <td>10fde44161d8af883ac0649569fb47b0</td>\n",
       "      <td>Bicarbonato sódico Hacendado_Bote</td>\n",
       "      <td>202103</td>\n",
       "      <td>0.45</td>\n",
       "    </tr>\n",
       "    <tr>\n",
       "      <th>1</th>\n",
       "      <td>10fde44161d8af883ac0649569fb47b0</td>\n",
       "      <td>Bicarbonato sódico Hacendado_Bote</td>\n",
       "      <td>202104</td>\n",
       "      <td>0.45</td>\n",
       "    </tr>\n",
       "    <tr>\n",
       "      <th>2</th>\n",
       "      <td>10fde44161d8af883ac0649569fb47b0</td>\n",
       "      <td>Bicarbonato sódico Hacendado_Bote</td>\n",
       "      <td>202105</td>\n",
       "      <td>0.45</td>\n",
       "    </tr>\n",
       "    <tr>\n",
       "      <th>3</th>\n",
       "      <td>10fde44161d8af883ac0649569fb47b0</td>\n",
       "      <td>Bicarbonato sódico Hacendado_Bote</td>\n",
       "      <td>202106</td>\n",
       "      <td>0.45</td>\n",
       "    </tr>\n",
       "    <tr>\n",
       "      <th>4</th>\n",
       "      <td>10fde44161d8af883ac0649569fb47b0</td>\n",
       "      <td>Bicarbonato sódico Hacendado_Bote</td>\n",
       "      <td>202107</td>\n",
       "      <td>0.45</td>\n",
       "    </tr>\n",
       "    <tr>\n",
       "      <th>5</th>\n",
       "      <td>10fde44161d8af883ac0649569fb47b0</td>\n",
       "      <td>Bicarbonato sódico Hacendado_Bote</td>\n",
       "      <td>202108</td>\n",
       "      <td>0.45</td>\n",
       "    </tr>\n",
       "    <tr>\n",
       "      <th>6</th>\n",
       "      <td>10fde44161d8af883ac0649569fb47b0</td>\n",
       "      <td>Bicarbonato sódico Hacendado_Bote</td>\n",
       "      <td>202109</td>\n",
       "      <td>0.45</td>\n",
       "    </tr>\n",
       "    <tr>\n",
       "      <th>7</th>\n",
       "      <td>10fde44161d8af883ac0649569fb47b0</td>\n",
       "      <td>Bicarbonato sódico Hacendado_Bote</td>\n",
       "      <td>202110</td>\n",
       "      <td>0.45</td>\n",
       "    </tr>\n",
       "    <tr>\n",
       "      <th>8</th>\n",
       "      <td>10fde44161d8af883ac0649569fb47b0</td>\n",
       "      <td>Bicarbonato sódico Hacendado_Bote</td>\n",
       "      <td>202111</td>\n",
       "      <td>0.45</td>\n",
       "    </tr>\n",
       "    <tr>\n",
       "      <th>9</th>\n",
       "      <td>10fde44161d8af883ac0649569fb47b0</td>\n",
       "      <td>Bicarbonato sódico Hacendado_Bote</td>\n",
       "      <td>202112</td>\n",
       "      <td>0.45</td>\n",
       "    </tr>\n",
       "  </tbody>\n",
       "</table>\n",
       "</div>"
      ],
      "text/plain": [
       "                         product_id                           namedesc  yearmon  price\n",
       "0  10fde44161d8af883ac0649569fb47b0  Bicarbonato sódico Hacendado_Bote   202103   0.45\n",
       "1  10fde44161d8af883ac0649569fb47b0  Bicarbonato sódico Hacendado_Bote   202104   0.45\n",
       "2  10fde44161d8af883ac0649569fb47b0  Bicarbonato sódico Hacendado_Bote   202105   0.45\n",
       "3  10fde44161d8af883ac0649569fb47b0  Bicarbonato sódico Hacendado_Bote   202106   0.45\n",
       "4  10fde44161d8af883ac0649569fb47b0  Bicarbonato sódico Hacendado_Bote   202107   0.45\n",
       "5  10fde44161d8af883ac0649569fb47b0  Bicarbonato sódico Hacendado_Bote   202108   0.45\n",
       "6  10fde44161d8af883ac0649569fb47b0  Bicarbonato sódico Hacendado_Bote   202109   0.45\n",
       "7  10fde44161d8af883ac0649569fb47b0  Bicarbonato sódico Hacendado_Bote   202110   0.45\n",
       "8  10fde44161d8af883ac0649569fb47b0  Bicarbonato sódico Hacendado_Bote   202111   0.45\n",
       "9  10fde44161d8af883ac0649569fb47b0  Bicarbonato sódico Hacendado_Bote   202112   0.45"
      ]
     },
     "execution_count": null,
     "metadata": {},
     "output_type": "execute_result"
    }
   ],
   "source": [
    "top5df = top5df.to_pandas()\n",
    "top5df.head(10)"
   ]
  },
  {
   "cell_type": "code",
   "execution_count": 29,
   "metadata": {},
   "outputs": [
    {
     "name": "stderr",
     "output_type": "stream",
     "text": [
      "[2024-07-22 13:24:50][datar][WARNING] Builtin name \"re\" has been masked by datar.\n"
     ]
    },
    {
     "name": "stderr",
     "output_type": "stream",
     "text": [
      "[2024-07-22 13:24:50][datar][WARNING] Builtin name \"sum\" has been masked by datar.\n"
     ]
    },
    {
     "name": "stderr",
     "output_type": "stream",
     "text": [
      "[2024-07-22 13:24:50][datar][WARNING] Builtin name \"all\" has been masked by datar.\n"
     ]
    },
    {
     "name": "stderr",
     "output_type": "stream",
     "text": [
      "[2024-07-22 13:24:50][datar][WARNING] Builtin name \"max\" has been masked by datar.\n"
     ]
    },
    {
     "name": "stderr",
     "output_type": "stream",
     "text": [
      "[2024-07-22 13:24:50][datar][WARNING] Builtin name \"round\" has been masked by datar.\n"
     ]
    },
    {
     "name": "stderr",
     "output_type": "stream",
     "text": [
      "[2024-07-22 13:24:50][datar][WARNING] Builtin name \"abs\" has been masked by datar.\n"
     ]
    },
    {
     "name": "stderr",
     "output_type": "stream",
     "text": [
      "[2024-07-22 13:24:50][datar][WARNING] Builtin name \"filter\" has been masked by datar.\n"
     ]
    },
    {
     "name": "stderr",
     "output_type": "stream",
     "text": [
      "[2024-07-22 13:24:50][datar][WARNING] Builtin name \"any\" has been masked by datar.\n"
     ]
    },
    {
     "name": "stderr",
     "output_type": "stream",
     "text": [
      "[2024-07-22 13:24:50][datar][WARNING] Builtin name \"slice\" has been masked by datar.\n"
     ]
    },
    {
     "name": "stderr",
     "output_type": "stream",
     "text": [
      "[2024-07-22 13:24:50][datar][WARNING] Builtin name \"min\" has been masked by datar.\n"
     ]
    }
   ],
   "source": [
    "import plotnine\n",
    "from plotnine import *\n",
    "import datar\n",
    "from datar.all import *\n"
   ]
  },
  {
   "cell_type": "code",
   "execution_count": 30,
   "metadata": {},
   "outputs": [
    {
     "data": {
      "text/html": [
       "<div>\n",
       "<style scoped>\n",
       "    .dataframe tbody tr th:only-of-type {\n",
       "        vertical-align: middle;\n",
       "    }\n",
       "\n",
       "    .dataframe tbody tr th {\n",
       "        vertical-align: top;\n",
       "    }\n",
       "\n",
       "    .dataframe thead th {\n",
       "        text-align: right;\n",
       "    }\n",
       "</style>\n",
       "<table border=\"1\" class=\"dataframe\">\n",
       "  <thead>\n",
       "    <tr style=\"text-align: right;\">\n",
       "      <th></th>\n",
       "      <th>product_id</th>\n",
       "      <th>namedesc</th>\n",
       "      <th>yearmon</th>\n",
       "      <th>price</th>\n",
       "      <th>yearmonfct</th>\n",
       "    </tr>\n",
       "  </thead>\n",
       "  <tbody>\n",
       "    <tr>\n",
       "      <th style=\"font-style: italic;\" ></th>\n",
       "      <td style=\"font-style: italic;\" >&lt;object&gt;</td>\n",
       "      <td style=\"font-style: italic;\" >&lt;object&gt;</td>\n",
       "      <td style=\"font-style: italic;\" >&lt;int64&gt;</td>\n",
       "      <td style=\"font-style: italic;\" >&lt;float64&gt;</td>\n",
       "      <td style=\"font-style: italic;\" >&lt;category&gt;</td>\n",
       "    </tr>\n",
       "    <tr>\n",
       "      <th>0</th>\n",
       "      <td>10fde44161d8af883ac0649569fb47b0</td>\n",
       "      <td>Bicarbonato sódico Hacendado_Bote</td>\n",
       "      <td>202103</td>\n",
       "      <td>0.45</td>\n",
       "      <td>202103</td>\n",
       "    </tr>\n",
       "    <tr>\n",
       "      <th>1</th>\n",
       "      <td>10fde44161d8af883ac0649569fb47b0</td>\n",
       "      <td>Bicarbonato sódico Hacendado_Bote</td>\n",
       "      <td>202104</td>\n",
       "      <td>0.45</td>\n",
       "      <td>202104</td>\n",
       "    </tr>\n",
       "    <tr>\n",
       "      <th>2</th>\n",
       "      <td>10fde44161d8af883ac0649569fb47b0</td>\n",
       "      <td>Bicarbonato sódico Hacendado_Bote</td>\n",
       "      <td>202105</td>\n",
       "      <td>0.45</td>\n",
       "      <td>202105</td>\n",
       "    </tr>\n",
       "    <tr>\n",
       "      <th>3</th>\n",
       "      <td>10fde44161d8af883ac0649569fb47b0</td>\n",
       "      <td>Bicarbonato sódico Hacendado_Bote</td>\n",
       "      <td>202106</td>\n",
       "      <td>0.45</td>\n",
       "      <td>202106</td>\n",
       "    </tr>\n",
       "    <tr>\n",
       "      <th>...</th>\n",
       "      <td>...</td>\n",
       "      <td>...</td>\n",
       "      <td>...</td>\n",
       "      <td>...</td>\n",
       "      <td>...</td>\n",
       "    </tr>\n",
       "    <tr>\n",
       "      <th>4</th>\n",
       "      <td>10fde44161d8af883ac0649569fb47b0</td>\n",
       "      <td>Bicarbonato sódico Hacendado_Bote</td>\n",
       "      <td>202107</td>\n",
       "      <td>0.45</td>\n",
       "      <td>202107</td>\n",
       "    </tr>\n",
       "    <tr>\n",
       "      <th>120</th>\n",
       "      <td>d1f58d4efd83db6b6b0e3831b13c80c9</td>\n",
       "      <td>Comino en grano Hacendado_Bote</td>\n",
       "      <td>202210</td>\n",
       "      <td>1.55</td>\n",
       "      <td>202210</td>\n",
       "    </tr>\n",
       "    <tr>\n",
       "      <th>121</th>\n",
       "      <td>d1f58d4efd83db6b6b0e3831b13c80c9</td>\n",
       "      <td>Comino en grano Hacendado_Bote</td>\n",
       "      <td>202211</td>\n",
       "      <td>1.55</td>\n",
       "      <td>202211</td>\n",
       "    </tr>\n",
       "    <tr>\n",
       "      <th>122</th>\n",
       "      <td>d1f58d4efd83db6b6b0e3831b13c80c9</td>\n",
       "      <td>Comino en grano Hacendado_Bote</td>\n",
       "      <td>202212</td>\n",
       "      <td>1.55</td>\n",
       "      <td>202212</td>\n",
       "    </tr>\n",
       "    <tr>\n",
       "      <th>123</th>\n",
       "      <td>d1f58d4efd83db6b6b0e3831b13c80c9</td>\n",
       "      <td>Comino en grano Hacendado_Bote</td>\n",
       "      <td>202212</td>\n",
       "      <td>1.95</td>\n",
       "      <td>202212</td>\n",
       "    </tr>\n",
       "    <tr>\n",
       "      <th>124</th>\n",
       "      <td>d1f58d4efd83db6b6b0e3831b13c80c9</td>\n",
       "      <td>Comino en grano Hacendado_Bote</td>\n",
       "      <td>202301</td>\n",
       "      <td>1.95</td>\n",
       "      <td>202301</td>\n",
       "    </tr>\n",
       "  </tbody>\n",
       "</table>\n",
       "<p>125 rows × 5 columns</p>\n",
       "</div>\n"
      ],
      "text/plain": [
       "                           product_id                           namedesc  yearmon     price yearmonfct\n",
       "                             <object>                           <object>  <int64> <float64> <category>\n",
       "0    10fde44161d8af883ac0649569fb47b0  Bicarbonato sódico Hacendado_Bote   202103      0.45     202103\n",
       "1    10fde44161d8af883ac0649569fb47b0  Bicarbonato sódico Hacendado_Bote   202104      0.45     202104\n",
       "2    10fde44161d8af883ac0649569fb47b0  Bicarbonato sódico Hacendado_Bote   202105      0.45     202105\n",
       "3    10fde44161d8af883ac0649569fb47b0  Bicarbonato sódico Hacendado_Bote   202106      0.45     202106\n",
       "..                                ...                                ...      ...       ...        ...\n",
       "4    10fde44161d8af883ac0649569fb47b0  Bicarbonato sódico Hacendado_Bote   202107      0.45     202107\n",
       "120  d1f58d4efd83db6b6b0e3831b13c80c9     Comino en grano Hacendado_Bote   202210      1.55     202210\n",
       "121  d1f58d4efd83db6b6b0e3831b13c80c9     Comino en grano Hacendado_Bote   202211      1.55     202211\n",
       "122  d1f58d4efd83db6b6b0e3831b13c80c9     Comino en grano Hacendado_Bote   202212      1.55     202212\n",
       "123  d1f58d4efd83db6b6b0e3831b13c80c9     Comino en grano Hacendado_Bote   202212      1.95     202212\n",
       "124  d1f58d4efd83db6b6b0e3831b13c80c9     Comino en grano Hacendado_Bote   202301      1.95     202301\n",
       "\n",
       "[125 rows x 5 columns]"
      ]
     },
     "execution_count": null,
     "metadata": {},
     "output_type": "execute_result"
    }
   ],
   "source": [
    "top5df = (\n",
    "    top5df\n",
    "    >> mutate(yearmonfct = as_factor(f.yearmon))\n",
    ")\n",
    "top5df"
   ]
  },
  {
   "cell_type": "code",
   "execution_count": 31,
   "metadata": {},
   "outputs": [
    {
     "name": "stderr",
     "output_type": "stream",
     "text": [
      "/Users/carlosortega/miniconda3/envs/coftidypolars/lib/python3.9/site-packages/plotnine/facets/facet.py:446: PlotnineWarning: If you need more space for the y-axis tick text use ... + theme(subplots_adjust={'hspace': 0.25}). Choose an appropriate value for 'hspace'\n"
     ]
    },
    {
     "data": {
      "image/png": "[encoded data removed]",
      "text/plain": [
       "<Figure size 1300x1500 with 5 Axes>"
      ]
     },
     "metadata": {},
     "output_type": "display_data"
    },
    {
     "data": {
      "text/plain": [
       "<ggplot: (876011999)>"
      ]
     },
     "execution_count": null,
     "metadata": {},
     "output_type": "execute_result"
    }
   ],
   "source": [
    "import plotnine\n",
    "plotnine.options.figure_size=(13, 15)\n",
    "\n",
    "(\n",
    "    ggplot(top5df, aes(x = 'yearmonfct', y = 'price', group = 'namedesc', color = 'namedesc'))\n",
    "    + geom_point(size = 3)\n",
    "    + geom_line()\n",
    "    + stat_smooth()\n",
    "    + ggtitle(\"MERCADONA - PRODUCTOS QUE MÁS SE HAN ENCARECIDO\")\n",
    "    + xlab(\"AñoMes\")\n",
    "    + ylab(\"Precio\")\n",
    "    + facet_wrap('namedesc', nrow = 5, scales = 'free')\n",
    "    + theme_538()\n",
    "    + theme(\n",
    "        axis_text_x=element_text(angle=0),\n",
    "        legend_position=\"bottom\",\n",
    "        legend_direction=\"horizontal\",\n",
    "        text=element_text(family=\"Tahoma\", size=11),\n",
    "        plot_title=element_text(size=15, family=\"Tahoma\", face=\"bold\")\n",
    "        #legend_title=element_blank()\n",
    "    )\n",
    ")"
   ]
  },
  {
   "cell_type": "markdown",
   "metadata": {},
   "source": [
    "---"
   ]
  },
  {
   "cell_type": "markdown",
   "metadata": {},
   "source": [
    "+ Ahora podemos ver cómo se puede hacer esta mismo enfoque usando R y el paquete _tidytable_ que combina la posibilidad de trabajar con data.table (paquete muy optimizado para conjuntos grandes y alta velocidad) y la opción de usar tuberías (como las que proporciona _dplyr_). "
   ]
  },
  {
   "cell_type": "code",
   "execution_count": 32,
   "metadata": {},
   "outputs": [
    {
     "name": "stdout",
     "output_type": "stream",
     "text": [
      "\u001b[1mError en file(filename, \"r\", encoding = encoding): \n",
      "  no se puede abrir la conexión\n",
      "\u001b[0m\u001b[1mAdemás: \u001b[0m\u001b[1mAviso:\n",
      "\u001b[0m\u001b[1mIn file(filename, \"r\", encoding = encoding) :\u001b[0m\u001b[1m\n",
      " \u001b[0m\u001b[1m no fue posible abrir el archivo '/Users/carlosortega/.vscode/extensions/reditorsupport.r-2.8.2/R/session/init.R': No such file or directory\n",
      "\u001b[0m\u001b[1mError en file(filename, \"r\", encoding = encoding): \n",
      "  no se puede abrir la conexión\n",
      "\u001b[0m\u001b[1mAdemás: \u001b[0m\u001b[1mAviso:\n",
      "\u001b[0m\u001b[1mIn file(filename, \"r\", encoding = encoding) :\u001b[0m\u001b[1m\n",
      " \u001b[0m\u001b[1m no fue posible abrir el archivo '/Users/carlosortega/.vscode/extensions/reditorsupport.r-2.8.2/R/session/init.R': No such file or directory\n",
      "\u001b[0m"
     ]
    }
   ],
   "source": [
    "%load_ext rpy2.ipython"
   ]
  },
  {
   "cell_type": "code",
   "execution_count": 33,
   "metadata": {},
   "outputs": [],
   "source": [
    "%%R\n",
    "\n",
    "#--- Load libraries\n",
    "suppressPackageStartupMessages({\n",
    "library(data.table)\n",
    "library(tidytable)\n",
    "library(ggplot2)\n",
    "library(tictoc)\n",
    "library(janitor)\n",
    "library(magrittr)\n",
    "library(lubridate)\n",
    "library(ggeasy)\n",
    "})\n",
    "\n",
    "#--- Clean environment\n",
    "inv_gc()\n",
    "inv_gc()\n",
    "\n",
    "tini <- Sys.time()\n",
    "\n",
    "#--- Read Data\n",
    "tic()\n",
    "midir <- './datos/'\n",
    "\n",
    "mifile <- 'datamarket_productos_de_supermercados_v2.csv'\n",
    "datos  <- fread(paste(midir, mifile, sep = \"\")) %>% as.data.table()\n",
    "toc(func.toc = toc.outmsg)\n",
    "# 16.18 sec elapsed\n",
    "\n",
    "print(object.size(datos), units = \"auto\")\n",
    "# 760.5 Mb\n"
   ]
  },
  {
   "cell_type": "code",
   "execution_count": null,
   "metadata": {},
   "outputs": [],
   "source": [
    "%%R\n",
    "\n",
    "#--- Calculations\n",
    "# Cuantos supermercados..\n",
    "datos %>% count.(supermarket)\n",
    "\n",
    "# # A tidytable: 3 × 2\n",
    "# supermarket        n\n",
    "# <chr>          <int>\n",
    "# 1 carrefour-es 2013216\n",
    "# 2 dia-es       3798230\n",
    "# 3 mercadona-es 3926129\n",
    "\n",
    "#--- Veamos Mercadona\n",
    "#--- Número de referencias.\n",
    "datos %>% \n",
    "  filter(supermarket == \"mercadona-es\") %>%\n",
    "  count(name) %>%\n",
    "  arrange(-n) %>%\n",
    "  as.data.table()\n",
    "\n",
    "#-- Solo Mercadona\n",
    "mercadf <- datos %>%\n",
    "  filter(supermarket == \"mercadona-es\") %>%\n",
    "  mutate(yearmon = year(insert_date) * 100 + month(insert_date)) %>%\n",
    "  as.data.table()\n",
    "\n",
    "# > nrow(mercadf)\n",
    "# [1] 3931335\n",
    "\n",
    "#--- Create max prices and min prices.\n",
    "tic()\n",
    "mercadfmin <- mercadf %>%\n",
    "  mutate(minyearmon = min(yearmon), .by = product_id) %>%\n",
    "  mutate(pricemin = ifelse(minyearmon == yearmon, 'Min', 'No'), .by = product_id) %>%\n",
    "  filter(pricemin == \"Min\") %>%\n",
    "  select(product_id, category, name, price, minyearmon, pricemin) %>%\n",
    "  arrange(product_id, minyearmon, price) %>%\n",
    "  rename(price_min = price) %>%\n",
    "  slice_head(n = 1, .by = c(product_id, minyearmon)) %>%\n",
    "  distinct() %>%\n",
    "  setkey(product_id) %>%\n",
    "  as.data.table()\n",
    "  \n",
    "mercadfmax <- mercadf %>%  \n",
    "  mutate(maxyearmon = max(yearmon), .by = product_id) %>%\n",
    "  mutate(pricemax = ifelse(maxyearmon == yearmon, 'Max', 'No'), .by = product_id) %>%\n",
    "  filter(pricemax == \"Max\") %>%\n",
    "  select(product_id, category, name, price, maxyearmon, pricemax) %>%\n",
    "  arrange(product_id, maxyearmon, -price) %>%\n",
    "  rename(price_max = price) %>%\n",
    "  slice_head(n = 1, .by = c(product_id, maxyearmon)) %>%\n",
    "  distinct() %>%\n",
    "  setkey(product_id) %>%\n",
    "  as.data.table()\n",
    "toc(func.toc = toc.outmsg)\n",
    "# 1.151 sec elapsed\n",
    "\n",
    "\n",
    "#--- Merge both datasets to get max and min values for the same product_id\n",
    "mercadfend <- mercadfmin %>%\n",
    "  left_join(mercadfmax, by = c('product_id')) %>%\n",
    "  select(-category.y, -name.y) %>%\n",
    "  mutate( delta = round( (price_max - price_min)*100/price_min, 2)) %>%\n",
    "  arrange(-delta) %>%\n",
    "  as.data.table()\n",
    "\n",
    "#--- Top - 10\n",
    "top10 <- mercadfend %>%\n",
    "  select(product_id) %>%\n",
    "  distinct() %>%\n",
    "  slice_head(n = 12) %>%\n",
    "  pull(product_id)\n",
    "\n",
    "#--- Extract top-10 from Mercadona df\n",
    "mercatop10 <- mercadf %>%\n",
    "  filter( product_id %chin% top10) %>%\n",
    "  mutate(prod_name = paste(name, description, sep = \"_\")) %>%\n",
    "  select(product_id, prod_name, yearmon, price) %>%\n",
    "  arrange(product_id, prod_name, yearmon, price) %>%\n",
    "  slice_head(n = 1, .by = c(product_id, yearmon)) %>%\n",
    "  distinct() %>%\n",
    "  as.data.table()\n",
    "\n",
    "#---- END OF FILE --------------\n",
    "tend <- Sys.time(); tend - tini\n",
    "# Time difference of 27.48517 secs"
   ]
  },
  {
   "cell_type": "code",
   "execution_count": null,
   "metadata": {},
   "outputs": [],
   "source": [
    "%%R -w 900 -h 650 -r 100\n",
    "\n",
    "#---- Chart each product evolution\n",
    "options( repr.plot.width = 13, repr.plot.height = 15)\n",
    "\n",
    "merca_gr <- ggplot(mercatop10, aes( x = as.factor(yearmon), y = price, group = prod_name, color = prod_name)) +\n",
    "  geom_point() +\n",
    "  geom_line() +\n",
    "  facet_wrap(~ prod_name, scales = 'free') +\n",
    "  labs(\n",
    "    title = \"TOP PRODUCTOS MÁXIMA VARIACION EN PRECIOS\",\n",
    "    x = \"AñoMes\",\n",
    "    y = \"Precio (€)\"\n",
    "  ) +\n",
    "  theme_bw() +\n",
    "  theme(\n",
    "         strip.text = element_text(size = 6, face = \"bold\"),\n",
    "         strip.background = element_rect(fill = \"white\")\n",
    "       ) +\n",
    "  easy_rotate_x_labels(angle = 90, side = c('middle')) +\n",
    "  easy_x_axis_labels_size(size = 4) +\n",
    "  easy_legend_at( to = \"none\" )\n",
    "print(merca_gr)\n",
    "ggsave(\"./Top_product_with_increment_price.png\")\n",
    "\n",
    "#---- END OF FILE --------------\n",
    "tend <- Sys.time(); tend - tini\n",
    "# Time difference of 27.48517 secs"
   ]
  },
  {
   "cell_type": "markdown",
   "metadata": {},
   "source": []
  }
 ],
 "metadata": {
  "kernelspec": {
   "display_name": "Python 3 (ipykernel)",
   "language": "python",
   "name": "python3"
  },
  "language_info": {
   "codemirror_mode": {
    "name": "ipython",
    "version": 3
   },
   "file_extension": ".py",
   "mimetype": "text/x-python",
   "name": "python",
   "nbconvert_exporter": "python",
   "pygments_lexer": "ipython3",
   "version": "3.11.9"
  }
 },
 "nbformat": 4,
 "nbformat_minor": 4
}
